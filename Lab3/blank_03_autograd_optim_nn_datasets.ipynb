{
 "cells": [
  {
   "cell_type": "code",
   "execution_count": 1,
   "metadata": {
    "id": "6ktSXdQVb9Li"
   },
   "outputs": [],
   "source": [
    "import torch\n",
    "import numpy as np\n",
    "import matplotlib.pyplot as plt"
   ]
  },
  {
   "cell_type": "markdown",
   "metadata": {
    "id": "4L7Inb1JbiDy"
   },
   "source": [
    "## 3.1 Автоматическое дифференцирование в `torch`"
   ]
  },
  {
   "cell_type": "markdown",
   "metadata": {
    "id": "HsZ69HZ0EsI7"
   },
   "source": [
    "3.1.1 Воспользовавшись классами `Neuron` и `SquaredLoss` из задачи 2.4.1 и автоматическим дифференцированием, которое предоставляет `torch`, решить задачу регрессии. Для оптимизации использовать стохастический градиетный спуск."
   ]
  },
  {
   "cell_type": "code",
   "execution_count": 2,
   "metadata": {
    "id": "zynPAaOrRKTm"
   },
   "outputs": [],
   "source": [
    "from sklearn.datasets import make_regression\n",
    "\n",
    "X, y, coef = make_regression(n_features=4, n_informative=4, coef=True, bias=0.5)\n",
    "X = torch.from_numpy(X).to(dtype=torch.float32)\n",
    "y = torch.from_numpy(y).to(dtype=torch.float32)"
   ]
  },
  {
   "cell_type": "code",
   "execution_count": 3,
   "metadata": {},
   "outputs": [
    {
     "data": {
      "text/plain": [
       "torch.Size([100, 4])"
      ]
     },
     "execution_count": 3,
     "metadata": {},
     "output_type": "execute_result"
    }
   ],
   "source": [
    "X.shape"
   ]
  },
  {
   "cell_type": "code",
   "execution_count": 4,
   "metadata": {},
   "outputs": [],
   "source": [
    "class SquaredLoss:\n",
    "    def forward(self, y_pred, y_true):\n",
    "        self.error = ((y_pred - y_true) ** 2).mean()\n",
    "        return self.error\n",
    "    \n",
    "    def backward(self):\n",
    "#         return 2 * (y_pred - y_true)\n",
    "        return self.error.backward()\n",
    "         "
   ]
  },
  {
   "cell_type": "code",
   "execution_count": 5,
   "metadata": {},
   "outputs": [],
   "source": [
    "class Neuron:\n",
    "    def __init__(self, n_inputs):\n",
    "        self.weights = torch.randn(n_inputs, requires_grad = True)\n",
    "        self.bias = torch.randn(1, requires_grad = True)\n",
    "        \n",
    "    def forward(self, inputs):\n",
    "        self.inputs = inputs\n",
    "        return torch.matmul(inputs, self.weights) + self.bias\n",
    "\n",
    "    def backward(self):        \n",
    "        # dvalue - значение градиента, которое приходит нейрону от следующего слоя сети\n",
    "        # в данном случае это будет градиент L по y^ (созданный методом backwards у объекта MSELoss)\n",
    "        self.dweights = self.weights.grad # df/dW\n",
    "        self.dbias = self.bias.grad # df/db\n"
   ]
  },
  {
   "cell_type": "code",
   "execution_count": 6,
   "metadata": {},
   "outputs": [
    {
     "name": "stdout",
     "output_type": "stream",
     "text": [
      "tensor([ 8.7362,  8.2291, 11.6165, 91.9918], requires_grad=True)\n"
     ]
    }
   ],
   "source": [
    "n_inputs = 4 # X.shape\n",
    "learning_rate = 0.001 #  скорость обучения\n",
    "n_epoch = 100 #  количество эпох\n",
    "    \n",
    "neuron = Neuron(n_inputs)\n",
    "loss = SquaredLoss()\n",
    "\n",
    "losses = []\n",
    "for epoch in range(100):\n",
    "    if epoch % 10 == 0: \n",
    "        pass\n",
    "#         print(f\"Эпоха {epoch}\")\n",
    "#         print(f\"neuron.weights {neuron.weights}\")\n",
    "#         print(f\"neuron.bias {neuron.bias}\")\n",
    "\n",
    "    for x_example, y_example in zip(X, y):\n",
    "        # forward pass\n",
    "        y_pred = neuron.forward(x_example)\n",
    "        curr_loss = loss.forward(y_pred, y_example)\n",
    "        losses.append(curr_loss.detach().numpy())\n",
    "\n",
    "        # backprop\n",
    "        \n",
    "        loss.backward()\n",
    "        # <вызов методов backward>\n",
    "        # обратите внимание на последовательность вызовов: от конца к началу\n",
    "        neuron.backward()\n",
    "        with torch.no_grad():\n",
    "            neuron.weights -= learning_rate * neuron.dweights\n",
    "            neuron.bias -= learning_rate * neuron.dbias\n",
    "        neuron.weights.grad.zero_()\n",
    "        neuron.bias.grad.zero_()\n",
    "        # <шаг оптимизации для весов (weights и bias) нейрона>\n",
    "        \n",
    "print(neuron.weights)\n"
   ]
  },
  {
   "cell_type": "code",
   "execution_count": 7,
   "metadata": {
    "scrolled": true
   },
   "outputs": [
    {
     "data": {
      "text/plain": [
       "[<matplotlib.lines.Line2D at 0x7fc3881b3430>]"
      ]
     },
     "execution_count": 7,
     "metadata": {},
     "output_type": "execute_result"
    },
    {
     "data": {
      "image/png": "[encoded data removed]",
      "text/plain": [
       "<Figure size 640x480 with 1 Axes>"
      ]
     },
     "metadata": {},
     "output_type": "display_data"
    }
   ],
   "source": [
    "index = np.arange(1, len(losses) + 1)\n",
    "plt.plot(index, np.array(losses))"
   ]
  },
  {
   "cell_type": "markdown",
   "metadata": {
    "id": "wxWeyJw5lAqU"
   },
   "source": [
    "3.1.2 Воспользовавшись классами `Linear` и `MSELoss` из задачи 2.1.4 и 2.3.1, `ReLU` из 2.2.1 и автоматическим дифференцированием, которое предоставляет `torch`, решить задачу регрессии. Для оптимизации использовать пакетный градиентный спуск. Вывести график функции потерь в зависимости от номера эпохи. Вывести на одном графике исходные данные и предсказанные значения."
   ]
  },
  {
   "cell_type": "code",
   "execution_count": 8,
   "metadata": {
    "id": "bnlAt1NEQoat"
   },
   "outputs": [],
   "source": [
    "X = torch.linspace(0, 1, 100).view(-1, 1)\n",
    "y = torch.sin(2 * np.pi * X) + 0.1 * torch.rand(X.size()) "
   ]
  },
  {
   "cell_type": "code",
   "execution_count": 9,
   "metadata": {},
   "outputs": [
    {
     "data": {
      "text/plain": [
       "(torch.Size([100, 1]), torch.Size([100, 1]))"
      ]
     },
     "execution_count": 9,
     "metadata": {},
     "output_type": "execute_result"
    }
   ],
   "source": [
    "X.shape , y.shape"
   ]
  },
  {
   "cell_type": "code",
   "execution_count": 10,
   "metadata": {},
   "outputs": [],
   "source": [
    "class Activation_ReLU:\n",
    "    def forward(self, inputs):\n",
    "        self.inputs = inputs\n",
    "        self.output = inputs.clip(min=0)\n",
    "        return self.output"
   ]
  },
  {
   "cell_type": "code",
   "execution_count": 11,
   "metadata": {},
   "outputs": [],
   "source": [
    "class MSELoss:\n",
    "    def forward(self, y_pred, y_true):\n",
    "        self.error =((y_true - y_pred)**2).mean()\n",
    "        return self.error"
   ]
  },
  {
   "cell_type": "code",
   "execution_count": 12,
   "metadata": {},
   "outputs": [],
   "source": [
    "class Linear:\n",
    "    def __init__(self, n_features, n_neurons):\n",
    "        self.weights = torch.randn(n_features, n_neurons, requires_grad=True)\n",
    "        self.biases = torch.randn(n_neurons, requires_grad=True)\n",
    "  \n",
    "    def forward(self, inputs):\n",
    "        return torch.matmul(inputs, self.weights) + self.biases"
   ]
  },
  {
   "cell_type": "code",
   "execution_count": 13,
   "metadata": {},
   "outputs": [
    {
     "name": "stdout",
     "output_type": "stream",
     "text": [
      "Epoch 0 Mean Loss: 39.120052337646484\n",
      "Epoch 1000 Mean Loss: 0.10222823917865753\n",
      "Epoch 2000 Mean Loss: 0.07943253219127655\n",
      "Epoch 3000 Mean Loss: 0.057803619652986526\n",
      "Epoch 4000 Mean Loss: 0.039467573165893555\n",
      "Epoch 5000 Mean Loss: 0.02580566704273224\n",
      "Epoch 6000 Mean Loss: 0.016750367358326912\n",
      "Epoch 7000 Mean Loss: 0.011243837885558605\n",
      "Epoch 8000 Mean Loss: 0.00802994892001152\n",
      "Epoch 9000 Mean Loss: 0.0061971223913133144\n"
     ]
    }
   ],
   "source": [
    "n_inputs = 1\n",
    "n_neurons = 50\n",
    "learning_rate = 0.01\n",
    "num_epochs = 10000\n",
    "\n",
    "fc1 = Linear(n_inputs, n_neurons)\n",
    "relu = Activation_ReLU()\n",
    "fc2 = Linear(n_neurons, 1)\n",
    "loss = MSELoss()\n",
    "\n",
    "losses = []\n",
    "for epoch in range(num_epochs):\n",
    "    hidden = relu.forward(fc1.forward(X))\n",
    "    output = fc2.forward(hidden)\n",
    "\n",
    "    data_loss = loss.forward(output, y)\n",
    "    losses.append(data_loss.item())\n",
    "\n",
    "    if epoch % 1000 == 0:\n",
    "        print(f'Epoch {epoch} Mean Loss: {data_loss.item()}')\n",
    "        \n",
    "\n",
    "    data_loss.backward()\n",
    "\n",
    "    with torch.no_grad():\n",
    "        fc1.weights -= learning_rate * fc1.weights.grad\n",
    "        fc1.biases -= learning_rate * fc1.biases.grad\n",
    "        fc2.weights -= learning_rate * fc2.weights.grad\n",
    "        fc2.biases -= learning_rate * fc2.biases.grad\n",
    "    \n",
    "    fc1.weights.grad.zero_()\n",
    "    fc1.biases.grad.zero_()\n",
    "    fc2.weights.grad.zero_()\n",
    "    fc2.biases.grad.zero_()\n",
    "    \n",
    "\n",
    "        \n",
    "        \n"
   ]
  },
  {
   "cell_type": "code",
   "execution_count": 14,
   "metadata": {},
   "outputs": [
    {
     "data": {
      "text/plain": [
       "[<matplotlib.lines.Line2D at 0x7fc3a1f4ddf0>]"
      ]
     },
     "execution_count": 14,
     "metadata": {},
     "output_type": "execute_result"
    },
    {
     "data": {
      "image/png": "[encoded data removed]",
      "text/plain": [
       "<Figure size 640x480 with 1 Axes>"
      ]
     },
     "metadata": {},
     "output_type": "display_data"
    }
   ],
   "source": [
    "index = np.arange(1, len(losses) + 1)\n",
    "plt.plot(index, np.array(losses))"
   ]
  },
  {
   "cell_type": "code",
   "execution_count": 15,
   "metadata": {},
   "outputs": [
    {
     "data": {
      "image/png": "[encoded data removed]",
      "text/plain": [
       "<Figure size 640x480 with 1 Axes>"
      ]
     },
     "metadata": {},
     "output_type": "display_data"
    }
   ],
   "source": [
    "with torch.no_grad():\n",
    "    test_hidden = relu.forward(fc1.forward(X))\n",
    "    test_output = fc2.forward(test_hidden)\n",
    "\n",
    "plt.plot(X, y, 'ro', label='Исходные данные')\n",
    "plt.plot(X, test_output, 'b', label='Предсказание')\n",
    "plt.legend()\n",
    "plt.show()"
   ]
  },
  {
   "cell_type": "markdown",
   "metadata": {
    "id": "nifm0FVB2y5N"
   },
   "source": [
    "## 3.2 Алгоритмы оптимизации в `torch.optim`"
   ]
  },
  {
   "cell_type": "code",
   "execution_count": 16,
   "metadata": {
    "id": "u5PTTYou3xx8"
   },
   "outputs": [],
   "source": [
    "import torch.optim as optim"
   ]
  },
  {
   "cell_type": "markdown",
   "metadata": {
    "id": "0oBFfJpmcwfn"
   },
   "source": [
    "3.2.1 Решить задачу 3.1.1, воспользовавшись оптимизатором `optim.SDG` для применения стохастического градиентого спуска"
   ]
  },
  {
   "cell_type": "code",
   "execution_count": 17,
   "metadata": {},
   "outputs": [],
   "source": [
    "from sklearn.datasets import make_regression\n",
    "\n",
    "X, y, coef = make_regression(n_features=4, n_informative=4, coef=True, bias=0.5)\n",
    "X = torch.from_numpy(X).to(dtype=torch.float32)\n",
    "y = torch.from_numpy(y).to(dtype=torch.float32)"
   ]
  },
  {
   "cell_type": "code",
   "execution_count": 18,
   "metadata": {},
   "outputs": [],
   "source": [
    "class SquaredLoss:\n",
    "    def forward(self, y_pred, y_true):\n",
    "        self.error = ((y_pred - y_true) ** 2).mean()\n",
    "        return self.error\n",
    "    \n",
    "    def backward(self):\n",
    "#         return 2 * (y_pred - y_true)\n",
    "        return self.error.backward()\n",
    "         "
   ]
  },
  {
   "cell_type": "code",
   "execution_count": 19,
   "metadata": {},
   "outputs": [],
   "source": [
    "class Neuron:\n",
    "    def __init__(self, n_inputs):\n",
    "        self.weights = torch.randn(n_inputs, requires_grad = True)\n",
    "        self.bias = torch.randn(1, requires_grad = True)\n",
    "        \n",
    "    def forward(self, inputs):\n",
    "        self.inputs = inputs\n",
    "        return torch.matmul(inputs, self.weights) + self.bias\n",
    "\n",
    "    def backward(self):        \n",
    "        # dvalue - значение градиента, которое приходит нейрону от следующего слоя сети\n",
    "        # в данном случае это будет градиент L по y^ (созданный методом backwards у объекта MSELoss)\n",
    "        self.dweights = self.weights.grad # df/dW\n",
    "        self.dbias = self.bias.grad # df/db\n"
   ]
  },
  {
   "cell_type": "code",
   "execution_count": 20,
   "metadata": {},
   "outputs": [
    {
     "name": "stdout",
     "output_type": "stream",
     "text": [
      "Эпоха 0\n",
      "neuron.weights tensor([-0.5556, -1.0470, -0.4143, -1.0779], requires_grad=True)\n",
      "neuron.bias tensor([0.4388], requires_grad=True)\n",
      "Эпоха 10\n",
      "neuron.weights tensor([75.9523, 43.1895, 64.0851, 59.4510], requires_grad=True)\n",
      "neuron.bias tensor([-4.8683], requires_grad=True)\n",
      "Эпоха 20\n",
      "neuron.weights tensor([88.7991, 44.9640, 71.7877, 66.7131], requires_grad=True)\n",
      "neuron.bias tensor([-1.0888], requires_grad=True)\n",
      "Эпоха 30\n",
      "neuron.weights tensor([91.0035, 44.8407, 72.8572, 67.8477], requires_grad=True)\n",
      "neuron.bias tensor([0.1304], requires_grad=True)\n",
      "Эпоха 40\n",
      "neuron.weights tensor([91.3946, 44.7885, 73.0177, 68.0572], requires_grad=True)\n",
      "neuron.bias tensor([0.4205], requires_grad=True)\n",
      "Эпоха 50\n",
      "neuron.weights tensor([91.4663, 44.7777, 73.0423, 68.0987], requires_grad=True)\n",
      "neuron.bias tensor([0.4834], requires_grad=True)\n",
      "Эпоха 60\n",
      "neuron.weights tensor([91.4797, 44.7758, 73.0461, 68.1071], requires_grad=True)\n",
      "neuron.bias tensor([0.4966], requires_grad=True)\n",
      "Эпоха 70\n",
      "neuron.weights tensor([91.4821, 44.7755, 73.0466, 68.1087], requires_grad=True)\n",
      "neuron.bias tensor([0.4993], requires_grad=True)\n",
      "Эпоха 80\n",
      "neuron.weights tensor([91.4825, 44.7755, 73.0467, 68.1090], requires_grad=True)\n",
      "neuron.bias tensor([0.4998], requires_grad=True)\n",
      "Эпоха 90\n",
      "neuron.weights tensor([91.4826, 44.7755, 73.0467, 68.1091], requires_grad=True)\n",
      "neuron.bias tensor([0.4999], requires_grad=True)\n",
      "tensor([91.4826, 44.7755, 73.0467, 68.1091], requires_grad=True)\n"
     ]
    }
   ],
   "source": [
    "n_inputs = 4 \n",
    "learning_rate = 0.001 \n",
    "n_epoch = 100 \n",
    "\n",
    "neuron = Neuron(n_inputs)\n",
    "loss = SquaredLoss()\n",
    "\n",
    "losses = []\n",
    "\n",
    "\n",
    "\n",
    "optimizer = optim.SGD([neuron.weights, neuron.bias], lr=learning_rate)\n",
    "\n",
    "\n",
    "for epoch in range(100):\n",
    "    if epoch % 10 == 0: \n",
    "        pass\n",
    "        print(f\"Эпоха {epoch}\")\n",
    "        print(f\"neuron.weights {neuron.weights}\")\n",
    "        print(f\"neuron.bias {neuron.bias}\")\n",
    "\n",
    "    for x_example, y_example in zip(X, y):\n",
    "        \n",
    "        y_pred = neuron.forward(x_example)\n",
    "        curr_loss = loss.forward(y_pred, y_example)\n",
    "\n",
    "        optimizer.zero_grad()\n",
    "        loss.backward()\n",
    "        optimizer.step()\n",
    "    losses.append(curr_loss.item())\n",
    "\n",
    "\n",
    "\n",
    "        \n",
    "print(neuron.weights)\n"
   ]
  },
  {
   "cell_type": "code",
   "execution_count": 21,
   "metadata": {},
   "outputs": [
    {
     "data": {
      "text/plain": [
       "[<matplotlib.lines.Line2D at 0x7fc3881ac370>]"
      ]
     },
     "execution_count": 21,
     "metadata": {},
     "output_type": "execute_result"
    },
    {
     "data": {
      "image/png": "[encoded data removed]",
      "text/plain": [
       "<Figure size 640x480 with 1 Axes>"
      ]
     },
     "metadata": {},
     "output_type": "display_data"
    }
   ],
   "source": [
    "index = np.arange(1, len(losses) + 1)\n",
    "plt.plot(index, np.array(losses))"
   ]
  },
  {
   "cell_type": "markdown",
   "metadata": {
    "id": "1LFAacdy46bX"
   },
   "source": [
    "3.2.2 Решить задачу 3.1.2, воспользовавшись оптимизатором `optim.Adam` для применения пакетного градиентого спуска. Вывести график функции потерь в зависимости от номера эпохи. Вывести на одном графике исходные данные и предсказанные значения."
   ]
  },
  {
   "cell_type": "code",
   "execution_count": 23,
   "metadata": {
    "id": "bnlAt1NEQoat"
   },
   "outputs": [],
   "source": [
    "X = torch.linspace(0, 1, 100).view(-1, 1)\n",
    "y = torch.sin(2 * np.pi * X) + 0.1 * torch.rand(X.size()) "
   ]
  },
  {
   "cell_type": "code",
   "execution_count": 24,
   "metadata": {},
   "outputs": [
    {
     "data": {
      "text/plain": [
       "(torch.Size([100, 1]), torch.Size([100, 1]))"
      ]
     },
     "execution_count": 24,
     "metadata": {},
     "output_type": "execute_result"
    }
   ],
   "source": [
    "X.shape , y.shape"
   ]
  },
  {
   "cell_type": "code",
   "execution_count": 25,
   "metadata": {},
   "outputs": [],
   "source": [
    "class Activation_ReLU:\n",
    "    def forward(self, inputs):\n",
    "        self.inputs = inputs\n",
    "        self.output = inputs.clip(min=0)\n",
    "        return self.output"
   ]
  },
  {
   "cell_type": "code",
   "execution_count": 26,
   "metadata": {},
   "outputs": [],
   "source": [
    "class MSELoss:\n",
    "    def forward(self, y_pred, y_true):\n",
    "        self.error =((y_true - y_pred)**2).mean()\n",
    "        return self.error"
   ]
  },
  {
   "cell_type": "code",
   "execution_count": 27,
   "metadata": {},
   "outputs": [],
   "source": [
    "class Linear:\n",
    "    def __init__(self, n_features, n_neurons):\n",
    "        self.weights = torch.randn(n_features, n_neurons, requires_grad = True)\n",
    "        self.biases = torch.randn(n_neurons, requires_grad = True)\n",
    "  \n",
    "    def forward(self, inputs):\n",
    "        return torch.matmul(inputs, self.weights) + self.biases"
   ]
  },
  {
   "cell_type": "code",
   "execution_count": 29,
   "metadata": {},
   "outputs": [
    {
     "name": "stdout",
     "output_type": "stream",
     "text": [
      "Epoch 0 Mean Loss: 0.0008168589556589723\n",
      "Epoch 1000 Mean Loss: 0.043285876512527466\n",
      "Epoch 2000 Mean Loss: 0.002023428911343217\n",
      "Epoch 3000 Mean Loss: 0.000987187959253788\n",
      "Epoch 4000 Mean Loss: 0.0009982775663957\n",
      "Epoch 5000 Mean Loss: 0.0009984858334064484\n",
      "Epoch 6000 Mean Loss: 0.0009938643779605627\n",
      "Epoch 7000 Mean Loss: 0.0009904117323458195\n",
      "Epoch 8000 Mean Loss: 0.0008980435086414218\n",
      "Epoch 9000 Mean Loss: 0.0008824387914501131\n"
     ]
    }
   ],
   "source": [
    "n_inputs = 1\n",
    "n_neurons = 50\n",
    "learning_rate = 0.001\n",
    "num_epochs = 10000\n",
    "\n",
    "fc1 = Linear(n_inputs, n_neurons)\n",
    "relu = Activation_ReLU()\n",
    "fc2 = Linear(n_neurons, 1)\n",
    "loss = MSELoss()\n",
    "batch_size = 25\n",
    "\n",
    "optimizer = optim.Adam([fc1.weights, fc1.biases, fc2.weights, fc2.biases], lr=learning_rate)\n",
    "\n",
    "losses = []\n",
    "\n",
    "for epoch in range(10000):\n",
    "    if epoch % 1000 == 0:\n",
    "        print(f'Epoch {epoch} Mean Loss: {data_loss}')\n",
    "\n",
    "    for i in range(0, len(X), batch_size):\n",
    "        batch_X = X[i:i+batch_size]\n",
    "        batch_y = y[i:i+batch_size]\n",
    "        \n",
    "\n",
    "        hidden = fc1.forward(batch_X)\n",
    "        relu_output = relu.forward(hidden)\n",
    "        output = fc2.forward(relu_output)\n",
    "\n",
    "        data_loss = loss.forward(output, batch_y)\n",
    "        optimizer.zero_grad()\n",
    "\n",
    "        data_loss.backward()\n",
    "\n",
    "\n",
    "        optimizer.step()\n",
    "    losses.append(data_loss.item())\n"
   ]
  },
  {
   "cell_type": "code",
   "execution_count": 30,
   "metadata": {},
   "outputs": [
    {
     "data": {
      "text/plain": [
       "[<matplotlib.lines.Line2D at 0x7fc38816c190>]"
      ]
     },
     "execution_count": 30,
     "metadata": {},
     "output_type": "execute_result"
    },
    {
     "data": {
      "image/png": "[encoded data removed]",
      "text/plain": [
       "<Figure size 640x480 with 1 Axes>"
      ]
     },
     "metadata": {},
     "output_type": "display_data"
    }
   ],
   "source": [
    "index = np.arange(1, len(losses) + 1)\n",
    "plt.plot(index, np.array(losses))"
   ]
  },
  {
   "cell_type": "code",
   "execution_count": 31,
   "metadata": {},
   "outputs": [
    {
     "data": {
      "image/png": "[encoded data removed]",
      "text/plain": [
       "<Figure size 640x480 with 1 Axes>"
      ]
     },
     "metadata": {},
     "output_type": "display_data"
    }
   ],
   "source": [
    "with torch.no_grad():\n",
    "    test_hidden = relu.forward(fc1.forward(X))\n",
    "    test_output = fc2.forward(test_hidden)\n",
    "\n",
    "plt.plot(X, y, 'ro', label='Исходные данные')\n",
    "plt.plot(X, test_output, 'b', label='Предсказание')\n",
    "plt.legend()\n",
    "plt.show()"
   ]
  },
  {
   "cell_type": "markdown",
   "metadata": {
    "id": "n-qUqdALiN-G"
   },
   "source": [
    "## 3.3 Построение сетей при помощи `torch.nn`"
   ]
  },
  {
   "cell_type": "code",
   "execution_count": 32,
   "metadata": {
    "id": "Vxsck-1M6TAV"
   },
   "outputs": [],
   "source": [
    "import torch.nn as nn"
   ]
  },
  {
   "cell_type": "markdown",
   "metadata": {
    "id": "M0ICJtarif3_"
   },
   "source": [
    "3.3.1 Решить задачу регрессии, соблюдая следующие условия:\n",
    "\n",
    "1. Оформить нейронную сеть в виде класса - наследника `nn.Module`\n",
    "2. При создании сети использовать готовые блоки из `torch.nn`: слои, функции активации, функции потерь и т.д.\n",
    "3. Для оптимизации использовать любой алгоритм оптимизации из `torch.optim` "
   ]
  },
  {
   "cell_type": "code",
   "execution_count": 33,
   "metadata": {
    "id": "L1bvXHhO7aWs"
   },
   "outputs": [],
   "source": [
    "X = torch.linspace(0, 1, 100).view(-1, 1)\n",
    "y = torch.sin(2 * np.pi * X) + 0.1 * torch.rand(X.size()) "
   ]
  },
  {
   "cell_type": "code",
   "execution_count": 39,
   "metadata": {},
   "outputs": [
    {
     "name": "stdout",
     "output_type": "stream",
     "text": [
      "Эпоха [1000/10000], Потеря: 0.0749630481004715\n",
      "Эпоха [2000/10000], Потеря: 0.050868626683950424\n",
      "Эпоха [3000/10000], Потеря: 0.04328912869095802\n",
      "Эпоха [4000/10000], Потеря: 0.037796150892972946\n",
      "Эпоха [5000/10000], Потеря: 0.0341586135327816\n",
      "Эпоха [6000/10000], Потеря: 0.029791660606861115\n",
      "Эпоха [7000/10000], Потеря: 0.028595736250281334\n",
      "Эпоха [8000/10000], Потеря: 0.025714609771966934\n",
      "Эпоха [9000/10000], Потеря: 0.02435731142759323\n",
      "Эпоха [10000/10000], Потеря: 0.019864153116941452\n"
     ]
    },
    {
     "data": {
      "image/png": "[encoded data removed]",
      "text/plain": [
       "<Figure size 640x480 with 1 Axes>"
      ]
     },
     "metadata": {},
     "output_type": "display_data"
    }
   ],
   "source": [
    "import torch\n",
    "import torch.nn as nn\n",
    "import torch.optim as optim\n",
    "\n",
    "class Regression(nn.Module):\n",
    "    def __init__(self):\n",
    "        super(Regression, self).__init__()\n",
    "        self.fc1 = nn.Linear(1, 50)  \n",
    "        self.relu = nn.ReLU() \n",
    "        self.fc2 = nn.Linear(50, 1)  \n",
    "\n",
    "    def forward(self, x):\n",
    "        x = self.fc1(x)\n",
    "        x = self.relu(x)\n",
    "        x = self.fc2(x)\n",
    "        return x\n",
    "\n",
    "\n",
    "model = Regression()\n",
    "\n",
    "criterion = nn.MSELoss()\n",
    "\n",
    "optimizer = optim.SGD(model.parameters(), lr=0.1)\n",
    "num_epochs = 10000\n",
    "\n",
    "for epoch in range(num_epochs):\n",
    "    outputs = model(X)\n",
    "    loss = criterion(outputs, y)\n",
    "\n",
    "    optimizer.zero_grad()\n",
    "    loss.backward()\n",
    "    optimizer.step()\n",
    "\n",
    "    if (epoch + 1) % 1000 == 0:\n",
    "        print(f'Эпоха [{epoch+1}/{num_epochs}], Потеря: {loss.item()}')\n",
    "\n",
    "\n",
    "\n",
    "model.eval()\n",
    "with torch.no_grad():\n",
    "    predicted = model(X)\n",
    "    \n",
    "plt.plot(X, y, 'ro', label='Исходные данные')\n",
    "plt.plot(X, test_output, 'b', label='Предсказание')\n",
    "plt.legend()\n",
    "plt.show()\n"
   ]
  },
  {
   "cell_type": "markdown",
   "metadata": {
    "id": "UPUW6fm5jbQd"
   },
   "source": [
    "3.3.2 Решить задачу регрессии, соблюдая следующие условия:\n",
    "\n",
    "1. Оформить нейронную сеть в виде объекта `nn.Sequential`\n",
    "2. При создании сети использовать готовые блоки из `torch.nn`: слои, функции активации, функции потерь и т.д.\n",
    "3. Для оптимизации использовать любой алгоритм оптимизации из `torch.optim` "
   ]
  },
  {
   "cell_type": "code",
   "execution_count": null,
   "metadata": {
    "id": "BBwbAEd57a2r"
   },
   "outputs": [],
   "source": [
    "X = torch.linspace(0, 1, 100).view(-1, 1)\n",
    "y = torch.sin(2 * np.pi * X) + 0.1 * torch.rand(X.size()) "
   ]
  },
  {
   "cell_type": "code",
   "execution_count": 42,
   "metadata": {},
   "outputs": [
    {
     "name": "stdout",
     "output_type": "stream",
     "text": [
      "Эпоха [1000/10000], Потеря: 0.13870027661323547\n",
      "Эпоха [2000/10000], Потеря: 0.11199790984392166\n",
      "Эпоха [3000/10000], Потеря: 0.08693847060203552\n",
      "Эпоха [4000/10000], Потеря: 0.06493762135505676\n",
      "Эпоха [5000/10000], Потеря: 0.046643730252981186\n",
      "Эпоха [6000/10000], Потеря: 0.032556090503931046\n",
      "Эпоха [7000/10000], Потеря: 0.022588161751627922\n",
      "Эпоха [8000/10000], Потеря: 0.01605072058737278\n",
      "Эпоха [9000/10000], Потеря: 0.011984162032604218\n",
      "Эпоха [10000/10000], Потеря: 0.009432987309992313\n"
     ]
    },
    {
     "data": {
      "image/png": "[encoded data removed]",
      "text/plain": [
       "<Figure size 640x480 with 1 Axes>"
      ]
     },
     "metadata": {},
     "output_type": "display_data"
    }
   ],
   "source": [
    "import torch\n",
    "import torch.nn as nn\n",
    "import torch.optim as optim\n",
    "import numpy as np\n",
    "\n",
    "\n",
    "# Гиперпараметры\n",
    "n_inputs = 1\n",
    "n_neurons = 50\n",
    "learning_rate = 0.01\n",
    "num_epochs = 10000\n",
    "\n",
    "model = nn.Sequential(\n",
    "    nn.Linear(n_inputs, n_neurons),  \n",
    "    nn.ReLU(),  \n",
    "    nn.Linear(n_neurons, 1)  \n",
    ")\n",
    "\n",
    "criterion = nn.MSELoss()\n",
    "\n",
    "optimizer = optim.SGD(model.parameters(), lr=learning_rate)\n",
    "\n",
    "losses = []\n",
    "\n",
    "for epoch in range(num_epochs):\n",
    "    outputs = model(X)\n",
    "    loss = criterion(outputs, y)\n",
    "\n",
    "    optimizer.zero_grad()\n",
    "    loss.backward()\n",
    "    optimizer.step()\n",
    "\n",
    "    if (epoch + 1) % 1000 == 0:\n",
    "        print(f'Эпоха [{epoch+1}/{num_epochs}], Потеря: {loss.item()}')\n",
    "\n",
    "\n",
    "\n",
    "model.eval()\n",
    "with torch.no_grad():\n",
    "    predicted = model(X)\n",
    "    \n",
    "plt.plot(X, y,'ro', label='Исходные данные')\n",
    "plt.plot(X, predicted, 'b', label='Предсказания')\n",
    "plt.legend()\n",
    "plt.show()\n"
   ]
  },
  {
   "cell_type": "markdown",
   "metadata": {
    "id": "jQj0oVeLj2A1"
   },
   "source": [
    "## 3.4. Datasets and dataloaders"
   ]
  },
  {
   "cell_type": "code",
   "execution_count": 43,
   "metadata": {
    "id": "c82tAkXMjajm"
   },
   "outputs": [],
   "source": [
    "from torch.utils.data import Dataset, DataLoader"
   ]
  },
  {
   "cell_type": "markdown",
   "metadata": {
    "id": "hoFPckkp8yhz"
   },
   "source": [
    "3.4.1 Создать датасет, поставляющий данные из задачи 3.1.2. \n",
    "\n",
    "Создать `DataLoader` на основе этого датасета и проверить работоспособность.\n",
    "\n",
    "Воспользовавшись результатами 3.3.1 (или 3.3.2) обучите модель, пользуясь мини-пакетным градиентным спуском с размером пакета (`batch_size`) = 10"
   ]
  },
  {
   "cell_type": "code",
   "execution_count": 45,
   "metadata": {},
   "outputs": [],
   "source": [
    "class SinDataset(Dataset):\n",
    "    def __init__(self, X, y):\n",
    "        self.X = X\n",
    "        self.y = y\n",
    "\n",
    "    def __len__(self):\n",
    "        return len(self.X)\n",
    "\n",
    "    def __getitem__(self, idx):\n",
    "        return self.X[idx], self.y[idx]"
   ]
  },
  {
   "cell_type": "code",
   "execution_count": 48,
   "metadata": {},
   "outputs": [
    {
     "name": "stdout",
     "output_type": "stream",
     "text": [
      "Эпоха [1000/10000], Потеря: 0.001092349411919713\n",
      "Эпоха [2000/10000], Потеря: 0.0005526316817849874\n",
      "Эпоха [3000/10000], Потеря: 0.0012614029692485929\n",
      "Эпоха [4000/10000], Потеря: 0.0011443238472566009\n",
      "Эпоха [5000/10000], Потеря: 0.0010536543559283018\n",
      "Эпоха [6000/10000], Потеря: 0.00039533217204734683\n",
      "Эпоха [7000/10000], Потеря: 0.0007976437918841839\n",
      "Эпоха [8000/10000], Потеря: 0.001699279062449932\n",
      "Эпоха [9000/10000], Потеря: 0.0005985828465782106\n",
      "Эпоха [10000/10000], Потеря: 0.001209154142998159\n"
     ]
    },
    {
     "data": {
      "image/png": "[encoded data removed]",
      "text/plain": [
       "<Figure size 640x480 with 1 Axes>"
      ]
     },
     "metadata": {},
     "output_type": "display_data"
    }
   ],
   "source": [
    "import torch\n",
    "import torch.nn as nn\n",
    "import torch.optim as optim\n",
    "from torch.utils.data import Dataset, DataLoader\n",
    "import numpy as np\n",
    "\n",
    "# Создание данных\n",
    "X = torch.linspace(0, 1, 100).view(-1, 1)\n",
    "y = torch.sin(2 * np.pi * X) + 0.1 * torch.rand(X.size())\n",
    "\n",
    "# Гиперпараметры\n",
    "n_inputs = 1\n",
    "n_neurons = 50\n",
    "learning_rate = 0.01\n",
    "num_epochs = 10000\n",
    "batch_size = 10\n",
    "\n",
    "\n",
    "dataset = SinDataset(X, y)\n",
    "\n",
    "dataloader = DataLoader(dataset, batch_size=batch_size, shuffle=True)\n",
    "\n",
    "criterion = nn.MSELoss()\n",
    "\n",
    "optimizer = optim.SGD(model.parameters(), lr=learning_rate)\n",
    "\n",
    "losses = []\n",
    "\n",
    "for epoch in range(num_epochs):\n",
    "    for inputs, targets in dataloader:\n",
    "        outputs = model(inputs)\n",
    "        loss = criterion(outputs, targets)\n",
    "\n",
    "        optimizer.zero_grad()\n",
    "        loss.backward()\n",
    "        optimizer.step()\n",
    "\n",
    "        losses.append(loss.item())\n",
    "\n",
    "    if (epoch + 1) % 1000 == 0:\n",
    "        print(f'Эпоха [{epoch+1}/{num_epochs}], Потеря: {loss.item()}')\n",
    "\n",
    "model.eval()\n",
    "with torch.no_grad():\n",
    "    predicted = model(X)\n",
    "    \n",
    "plt.plot(X, y,'ro', label='Исходные данные')\n",
    "plt.plot(X, predicted, 'b', label='Предсказания')\n",
    "plt.legend()\n",
    "plt.show()\n"
   ]
  },
  {
   "cell_type": "markdown",
   "metadata": {
    "id": "bxz02a3k_VQL"
   },
   "source": [
    "3.4.2 Предсказание цен алмазов"
   ]
  },
  {
   "cell_type": "markdown",
   "metadata": {},
   "source": [
    "3.4.2.1 Создайте датасет на основе файла diamonds.csv. \n",
    "\n",
    "1. Удалите все нечисловые столбцы\n",
    "2. Целевой столбец (`y`) - `price`\n",
    "3. Преобразуйте данные в тензоры корректных размеров"
   ]
  },
  {
   "cell_type": "code",
   "execution_count": 94,
   "metadata": {
    "id": "fEfTNJQI8emD"
   },
   "outputs": [],
   "source": [
    "class DiamondsDataset(Dataset):\n",
    "    def __init__(self, data, target):\n",
    "        self.data = data\n",
    "        self.target = target\n",
    "\n",
    "    def __len__(self):\n",
    "        return len(self.data)\n",
    "\n",
    "    def __getitem__(self, idx):\n",
    "        return self.data[idx], self.target[idx]"
   ]
  },
  {
   "cell_type": "code",
   "execution_count": 95,
   "metadata": {},
   "outputs": [
    {
     "data": {
      "text/html": [
       "<div>\n",
       "<style scoped>\n",
       "    .dataframe tbody tr th:only-of-type {\n",
       "        vertical-align: middle;\n",
       "    }\n",
       "\n",
       "    .dataframe tbody tr th {\n",
       "        vertical-align: top;\n",
       "    }\n",
       "\n",
       "    .dataframe thead th {\n",
       "        text-align: right;\n",
       "    }\n",
       "</style>\n",
       "<table border=\"1\" class=\"dataframe\">\n",
       "  <thead>\n",
       "    <tr style=\"text-align: right;\">\n",
       "      <th></th>\n",
       "      <th>Unnamed: 0</th>\n",
       "      <th>carat</th>\n",
       "      <th>cut</th>\n",
       "      <th>color</th>\n",
       "      <th>clarity</th>\n",
       "      <th>depth</th>\n",
       "      <th>table</th>\n",
       "      <th>price</th>\n",
       "      <th>x</th>\n",
       "      <th>y</th>\n",
       "      <th>z</th>\n",
       "    </tr>\n",
       "  </thead>\n",
       "  <tbody>\n",
       "    <tr>\n",
       "      <th>0</th>\n",
       "      <td>1</td>\n",
       "      <td>0.23</td>\n",
       "      <td>Ideal</td>\n",
       "      <td>E</td>\n",
       "      <td>SI2</td>\n",
       "      <td>61.5</td>\n",
       "      <td>55.0</td>\n",
       "      <td>326</td>\n",
       "      <td>3.95</td>\n",
       "      <td>3.98</td>\n",
       "      <td>2.43</td>\n",
       "    </tr>\n",
       "    <tr>\n",
       "      <th>1</th>\n",
       "      <td>2</td>\n",
       "      <td>0.21</td>\n",
       "      <td>Premium</td>\n",
       "      <td>E</td>\n",
       "      <td>SI1</td>\n",
       "      <td>59.8</td>\n",
       "      <td>61.0</td>\n",
       "      <td>326</td>\n",
       "      <td>3.89</td>\n",
       "      <td>3.84</td>\n",
       "      <td>2.31</td>\n",
       "    </tr>\n",
       "    <tr>\n",
       "      <th>2</th>\n",
       "      <td>3</td>\n",
       "      <td>0.23</td>\n",
       "      <td>Good</td>\n",
       "      <td>E</td>\n",
       "      <td>VS1</td>\n",
       "      <td>56.9</td>\n",
       "      <td>65.0</td>\n",
       "      <td>327</td>\n",
       "      <td>4.05</td>\n",
       "      <td>4.07</td>\n",
       "      <td>2.31</td>\n",
       "    </tr>\n",
       "    <tr>\n",
       "      <th>3</th>\n",
       "      <td>4</td>\n",
       "      <td>0.29</td>\n",
       "      <td>Premium</td>\n",
       "      <td>I</td>\n",
       "      <td>VS2</td>\n",
       "      <td>62.4</td>\n",
       "      <td>58.0</td>\n",
       "      <td>334</td>\n",
       "      <td>4.20</td>\n",
       "      <td>4.23</td>\n",
       "      <td>2.63</td>\n",
       "    </tr>\n",
       "    <tr>\n",
       "      <th>4</th>\n",
       "      <td>5</td>\n",
       "      <td>0.31</td>\n",
       "      <td>Good</td>\n",
       "      <td>J</td>\n",
       "      <td>SI2</td>\n",
       "      <td>63.3</td>\n",
       "      <td>58.0</td>\n",
       "      <td>335</td>\n",
       "      <td>4.34</td>\n",
       "      <td>4.35</td>\n",
       "      <td>2.75</td>\n",
       "    </tr>\n",
       "    <tr>\n",
       "      <th>...</th>\n",
       "      <td>...</td>\n",
       "      <td>...</td>\n",
       "      <td>...</td>\n",
       "      <td>...</td>\n",
       "      <td>...</td>\n",
       "      <td>...</td>\n",
       "      <td>...</td>\n",
       "      <td>...</td>\n",
       "      <td>...</td>\n",
       "      <td>...</td>\n",
       "      <td>...</td>\n",
       "    </tr>\n",
       "    <tr>\n",
       "      <th>53935</th>\n",
       "      <td>53936</td>\n",
       "      <td>0.72</td>\n",
       "      <td>Ideal</td>\n",
       "      <td>D</td>\n",
       "      <td>SI1</td>\n",
       "      <td>60.8</td>\n",
       "      <td>57.0</td>\n",
       "      <td>2757</td>\n",
       "      <td>5.75</td>\n",
       "      <td>5.76</td>\n",
       "      <td>3.50</td>\n",
       "    </tr>\n",
       "    <tr>\n",
       "      <th>53936</th>\n",
       "      <td>53937</td>\n",
       "      <td>0.72</td>\n",
       "      <td>Good</td>\n",
       "      <td>D</td>\n",
       "      <td>SI1</td>\n",
       "      <td>63.1</td>\n",
       "      <td>55.0</td>\n",
       "      <td>2757</td>\n",
       "      <td>5.69</td>\n",
       "      <td>5.75</td>\n",
       "      <td>3.61</td>\n",
       "    </tr>\n",
       "    <tr>\n",
       "      <th>53937</th>\n",
       "      <td>53938</td>\n",
       "      <td>0.70</td>\n",
       "      <td>Very Good</td>\n",
       "      <td>D</td>\n",
       "      <td>SI1</td>\n",
       "      <td>62.8</td>\n",
       "      <td>60.0</td>\n",
       "      <td>2757</td>\n",
       "      <td>5.66</td>\n",
       "      <td>5.68</td>\n",
       "      <td>3.56</td>\n",
       "    </tr>\n",
       "    <tr>\n",
       "      <th>53938</th>\n",
       "      <td>53939</td>\n",
       "      <td>0.86</td>\n",
       "      <td>Premium</td>\n",
       "      <td>H</td>\n",
       "      <td>SI2</td>\n",
       "      <td>61.0</td>\n",
       "      <td>58.0</td>\n",
       "      <td>2757</td>\n",
       "      <td>6.15</td>\n",
       "      <td>6.12</td>\n",
       "      <td>3.74</td>\n",
       "    </tr>\n",
       "    <tr>\n",
       "      <th>53939</th>\n",
       "      <td>53940</td>\n",
       "      <td>0.75</td>\n",
       "      <td>Ideal</td>\n",
       "      <td>D</td>\n",
       "      <td>SI2</td>\n",
       "      <td>62.2</td>\n",
       "      <td>55.0</td>\n",
       "      <td>2757</td>\n",
       "      <td>5.83</td>\n",
       "      <td>5.87</td>\n",
       "      <td>3.64</td>\n",
       "    </tr>\n",
       "  </tbody>\n",
       "</table>\n",
       "<p>53940 rows × 11 columns</p>\n",
       "</div>"
      ],
      "text/plain": [
       "       Unnamed: 0  carat        cut color clarity  depth  table  price     x  \\\n",
       "0               1   0.23      Ideal     E     SI2   61.5   55.0    326  3.95   \n",
       "1               2   0.21    Premium     E     SI1   59.8   61.0    326  3.89   \n",
       "2               3   0.23       Good     E     VS1   56.9   65.0    327  4.05   \n",
       "3               4   0.29    Premium     I     VS2   62.4   58.0    334  4.20   \n",
       "4               5   0.31       Good     J     SI2   63.3   58.0    335  4.34   \n",
       "...           ...    ...        ...   ...     ...    ...    ...    ...   ...   \n",
       "53935       53936   0.72      Ideal     D     SI1   60.8   57.0   2757  5.75   \n",
       "53936       53937   0.72       Good     D     SI1   63.1   55.0   2757  5.69   \n",
       "53937       53938   0.70  Very Good     D     SI1   62.8   60.0   2757  5.66   \n",
       "53938       53939   0.86    Premium     H     SI2   61.0   58.0   2757  6.15   \n",
       "53939       53940   0.75      Ideal     D     SI2   62.2   55.0   2757  5.83   \n",
       "\n",
       "          y     z  \n",
       "0      3.98  2.43  \n",
       "1      3.84  2.31  \n",
       "2      4.07  2.31  \n",
       "3      4.23  2.63  \n",
       "4      4.35  2.75  \n",
       "...     ...   ...  \n",
       "53935  5.76  3.50  \n",
       "53936  5.75  3.61  \n",
       "53937  5.68  3.56  \n",
       "53938  6.12  3.74  \n",
       "53939  5.87  3.64  \n",
       "\n",
       "[53940 rows x 11 columns]"
      ]
     },
     "execution_count": 95,
     "metadata": {},
     "output_type": "execute_result"
    }
   ],
   "source": [
    "data = pd.read_csv(\"diamonds.csv\")\n",
    "data"
   ]
  },
  {
   "cell_type": "code",
   "execution_count": 88,
   "metadata": {},
   "outputs": [
    {
     "data": {
      "text/html": [
       "<div>\n",
       "<style scoped>\n",
       "    .dataframe tbody tr th:only-of-type {\n",
       "        vertical-align: middle;\n",
       "    }\n",
       "\n",
       "    .dataframe tbody tr th {\n",
       "        vertical-align: top;\n",
       "    }\n",
       "\n",
       "    .dataframe thead th {\n",
       "        text-align: right;\n",
       "    }\n",
       "</style>\n",
       "<table border=\"1\" class=\"dataframe\">\n",
       "  <thead>\n",
       "    <tr style=\"text-align: right;\">\n",
       "      <th></th>\n",
       "      <th>carat</th>\n",
       "      <th>depth</th>\n",
       "      <th>table</th>\n",
       "      <th>x</th>\n",
       "      <th>y</th>\n",
       "      <th>z</th>\n",
       "    </tr>\n",
       "  </thead>\n",
       "  <tbody>\n",
       "    <tr>\n",
       "      <th>0</th>\n",
       "      <td>0.23</td>\n",
       "      <td>61.5</td>\n",
       "      <td>55.0</td>\n",
       "      <td>3.95</td>\n",
       "      <td>3.98</td>\n",
       "      <td>2.43</td>\n",
       "    </tr>\n",
       "    <tr>\n",
       "      <th>1</th>\n",
       "      <td>0.21</td>\n",
       "      <td>59.8</td>\n",
       "      <td>61.0</td>\n",
       "      <td>3.89</td>\n",
       "      <td>3.84</td>\n",
       "      <td>2.31</td>\n",
       "    </tr>\n",
       "    <tr>\n",
       "      <th>2</th>\n",
       "      <td>0.23</td>\n",
       "      <td>56.9</td>\n",
       "      <td>65.0</td>\n",
       "      <td>4.05</td>\n",
       "      <td>4.07</td>\n",
       "      <td>2.31</td>\n",
       "    </tr>\n",
       "    <tr>\n",
       "      <th>3</th>\n",
       "      <td>0.29</td>\n",
       "      <td>62.4</td>\n",
       "      <td>58.0</td>\n",
       "      <td>4.20</td>\n",
       "      <td>4.23</td>\n",
       "      <td>2.63</td>\n",
       "    </tr>\n",
       "    <tr>\n",
       "      <th>4</th>\n",
       "      <td>0.31</td>\n",
       "      <td>63.3</td>\n",
       "      <td>58.0</td>\n",
       "      <td>4.34</td>\n",
       "      <td>4.35</td>\n",
       "      <td>2.75</td>\n",
       "    </tr>\n",
       "    <tr>\n",
       "      <th>...</th>\n",
       "      <td>...</td>\n",
       "      <td>...</td>\n",
       "      <td>...</td>\n",
       "      <td>...</td>\n",
       "      <td>...</td>\n",
       "      <td>...</td>\n",
       "    </tr>\n",
       "    <tr>\n",
       "      <th>53935</th>\n",
       "      <td>0.72</td>\n",
       "      <td>60.8</td>\n",
       "      <td>57.0</td>\n",
       "      <td>5.75</td>\n",
       "      <td>5.76</td>\n",
       "      <td>3.50</td>\n",
       "    </tr>\n",
       "    <tr>\n",
       "      <th>53936</th>\n",
       "      <td>0.72</td>\n",
       "      <td>63.1</td>\n",
       "      <td>55.0</td>\n",
       "      <td>5.69</td>\n",
       "      <td>5.75</td>\n",
       "      <td>3.61</td>\n",
       "    </tr>\n",
       "    <tr>\n",
       "      <th>53937</th>\n",
       "      <td>0.70</td>\n",
       "      <td>62.8</td>\n",
       "      <td>60.0</td>\n",
       "      <td>5.66</td>\n",
       "      <td>5.68</td>\n",
       "      <td>3.56</td>\n",
       "    </tr>\n",
       "    <tr>\n",
       "      <th>53938</th>\n",
       "      <td>0.86</td>\n",
       "      <td>61.0</td>\n",
       "      <td>58.0</td>\n",
       "      <td>6.15</td>\n",
       "      <td>6.12</td>\n",
       "      <td>3.74</td>\n",
       "    </tr>\n",
       "    <tr>\n",
       "      <th>53939</th>\n",
       "      <td>0.75</td>\n",
       "      <td>62.2</td>\n",
       "      <td>55.0</td>\n",
       "      <td>5.83</td>\n",
       "      <td>5.87</td>\n",
       "      <td>3.64</td>\n",
       "    </tr>\n",
       "  </tbody>\n",
       "</table>\n",
       "<p>53940 rows × 6 columns</p>\n",
       "</div>"
      ],
      "text/plain": [
       "       carat  depth  table     x     y     z\n",
       "0       0.23   61.5   55.0  3.95  3.98  2.43\n",
       "1       0.21   59.8   61.0  3.89  3.84  2.31\n",
       "2       0.23   56.9   65.0  4.05  4.07  2.31\n",
       "3       0.29   62.4   58.0  4.20  4.23  2.63\n",
       "4       0.31   63.3   58.0  4.34  4.35  2.75\n",
       "...      ...    ...    ...   ...   ...   ...\n",
       "53935   0.72   60.8   57.0  5.75  5.76  3.50\n",
       "53936   0.72   63.1   55.0  5.69  5.75  3.61\n",
       "53937   0.70   62.8   60.0  5.66  5.68  3.56\n",
       "53938   0.86   61.0   58.0  6.15  6.12  3.74\n",
       "53939   0.75   62.2   55.0  5.83  5.87  3.64\n",
       "\n",
       "[53940 rows x 6 columns]"
      ]
     },
     "execution_count": 88,
     "metadata": {},
     "output_type": "execute_result"
    }
   ],
   "source": [
    "\n",
    "data = data.drop(['Unnamed: 0', 'cut', 'color', 'clarity'], axis=1)\n",
    "target = torch.tensor(data[\"price\"].values, dtype=torch.float32)\n",
    "data = data.drop(columns=[\"price\"])\n",
    "data\n"
   ]
  },
  {
   "cell_type": "code",
   "execution_count": 89,
   "metadata": {},
   "outputs": [],
   "source": [
    "data = torch.tensor(data.values, dtype=torch.float32)\n",
    "dataset = DiamondsDataset(data, target)"
   ]
  },
  {
   "cell_type": "code",
   "execution_count": 90,
   "metadata": {},
   "outputs": [
    {
     "data": {
      "text/plain": [
       "(tensor([[ 0.2300, 61.5000, 55.0000,  3.9500,  3.9800,  2.4300],\n",
       "         [ 0.2100, 59.8000, 61.0000,  3.8900,  3.8400,  2.3100],\n",
       "         [ 0.2300, 56.9000, 65.0000,  4.0500,  4.0700,  2.3100],\n",
       "         ...,\n",
       "         [ 0.7000, 62.8000, 60.0000,  5.6600,  5.6800,  3.5600],\n",
       "         [ 0.8600, 61.0000, 58.0000,  6.1500,  6.1200,  3.7400],\n",
       "         [ 0.7500, 62.2000, 55.0000,  5.8300,  5.8700,  3.6400]]),\n",
       " tensor([ 326.,  326.,  327.,  ..., 2757., 2757., 2757.]))"
      ]
     },
     "execution_count": 90,
     "metadata": {},
     "output_type": "execute_result"
    }
   ],
   "source": [
    "tensor_data, target"
   ]
  },
  {
   "cell_type": "markdown",
   "metadata": {},
   "source": [
    "3.4.2.2 Разбейте датасет на обучающий и тестовый датасет при помощи `torch.utils.data.random_split`."
   ]
  },
  {
   "cell_type": "code",
   "execution_count": 91,
   "metadata": {},
   "outputs": [],
   "source": [
    "from torch.utils.data import random_split\n",
    "train_size = int(0.8 * len(dataset))  \n",
    "test_size = len(dataset) - train_size  \n",
    "\n",
    "train_dataset, test_dataset = random_split(dataset, [train_size, test_size])"
   ]
  },
  {
   "cell_type": "markdown",
   "metadata": {},
   "source": [
    "3.4.2.3 Обучите модель для предсказания цен при помощи мини-пакетного градиентного спуска (`batch_size = 256`). "
   ]
  },
  {
   "cell_type": "code",
   "execution_count": 108,
   "metadata": {},
   "outputs": [
    {
     "name": "stdout",
     "output_type": "stream",
     "text": [
      "<torch.utils.data.dataloader.DataLoader object at 0x7fc3a2888760>\n",
      "Epoch [1/100], Mean Loss: 18331753.53846154\n",
      "Epoch [11/100], Mean Loss: 2176733.347633136\n",
      "Epoch [21/100], Mean Loss: 2163162.8439349113\n",
      "Epoch [31/100], Mean Loss: 2154891.521449704\n",
      "Epoch [41/100], Mean Loss: 2151080.7337278104\n",
      "Epoch [51/100], Mean Loss: 2148721.8106508874\n",
      "Epoch [61/100], Mean Loss: 2145969.0118343197\n",
      "Epoch [71/100], Mean Loss: 2143001.3143491126\n",
      "Epoch [81/100], Mean Loss: 2133331.1642011832\n",
      "Epoch [91/100], Mean Loss: 2132352.977071006\n"
     ]
    }
   ],
   "source": [
    "model = nn.Sequential(\n",
    "    nn.Linear(6, 100),\n",
    "    nn.ReLU(),\n",
    "    nn.Linear(100, 1)\n",
    ")\n",
    "\n",
    "batch_size = 256\n",
    "num_epochs = 100\n",
    "train_loader = DataLoader(train_dataset, batch_size=batch_size, shuffle=True)\n",
    "\n",
    "criterion = nn.MSELoss()\n",
    "optimizer = optim.Adam(model.parameters(), lr=0.01) \n",
    "\n",
    "print(train_loader)\n",
    "losses = []\n",
    "for epoch in range(num_epochs):\n",
    "    total_loss = 0.0\n",
    "    for batch_data, batch_target in train_loader:\n",
    "        outputs = model(batch_data.float())\n",
    "        loss = criterion(outputs, batch_target.view(-1, 1))\n",
    "\n",
    "\n",
    "        optimizer.zero_grad()\n",
    "        loss.backward()\n",
    "        optimizer.step()\n",
    "        total_loss += loss.item()\n",
    "\n",
    "    avg_loss = total_loss / len(train_loader)\n",
    "    losses.append(avg_loss)\n",
    "    if epoch % 10 == 0:\n",
    "        print(f'Epoch [{epoch+1}/{num_epochs}], Mean Loss: {avg_loss}')"
   ]
  },
  {
   "cell_type": "markdown",
   "metadata": {},
   "source": [
    "3.4.2.4 Выведите график функции потерь в зависимости от номера эпохи (значение потерь для эпохи рассчитывайте как среднее значение ошибок на каждом батче). Проверьте качество модели на тестовой выборке. "
   ]
  },
  {
   "cell_type": "code",
   "execution_count": 109,
   "metadata": {},
   "outputs": [
    {
     "data": {
      "text/plain": [
       "[<matplotlib.lines.Line2D at 0x7fc3a288c4f0>]"
      ]
     },
     "execution_count": 109,
     "metadata": {},
     "output_type": "execute_result"
    },
    {
     "data": {
      "image/png": "[encoded data removed]",
      "text/plain": [
       "<Figure size 640x480 with 1 Axes>"
      ]
     },
     "metadata": {},
     "output_type": "display_data"
    }
   ],
   "source": [
    "index = np.arange(1, len(losses) + 1)\n",
    "plt.plot(index, np.array(losses))"
   ]
  },
  {
   "cell_type": "markdown",
   "metadata": {
    "id": "qE81cgQdGM7I"
   },
   "source": [
    "3.4.3 Модифицируйте метод `__init__` датасета из 3.4.2 таким образом, чтобы он мог принимать параметр `transform: callable`. Реализуйте класс `DropColsTransform` для удаления нечисловых данных из массива. Реализуйте класс `ToTensorTransorm` для трансформации массива в тензор."
   ]
  },
  {
   "cell_type": "code",
   "execution_count": 181,
   "metadata": {
    "id": "J02LNj_F8qxK"
   },
   "outputs": [],
   "source": [
    "class DiamondsDataset(Dataset):\n",
    "    def __init__(self, data, transform=None):\n",
    "        self.data = data\n",
    "        self.transform = transform\n",
    "\n",
    "    def __len__(self):\n",
    "        return len(self.data)\n",
    "\n",
    "    def __getitem__(self, idx):\n",
    "        sample = self.data.iloc[idx]\n",
    "        if self.transform:\n",
    "            sample = self.transform(sample)\n",
    "        return sample"
   ]
  },
  {
   "cell_type": "code",
   "execution_count": 200,
   "metadata": {
    "id": "tJii-22pHIlU"
   },
   "outputs": [],
   "source": [
    "class DropColsTransform:\n",
    "    def __call__(self, sample):\n",
    "        sample = sample.select_dtypes(include=[int, float])\n",
    "        return sample"
   ]
  },
  {
   "cell_type": "code",
   "execution_count": 201,
   "metadata": {
    "id": "dZZ-OKrVHnY5"
   },
   "outputs": [],
   "source": [
    "class ToTensorTransform:\n",
    "    def __call__(self, sample):\n",
    "        sample = torch.tensor(sample.values, dtype=torch.float32)\n",
    "        return sample\n"
   ]
  },
  {
   "cell_type": "code",
   "execution_count": 218,
   "metadata": {},
   "outputs": [],
   "source": [
    "from torchvision import transforms\n",
    "\n",
    "data = pd.read_csv('diamonds.csv', index_col=0)\n",
    "\n",
    "drop_transform = DropColsTransform()\n",
    "to_tensor_transform = ToTensorTransform()\n",
    "\n",
    "transform = transforms.Compose([drop_transform, to_tensor_transform])\n",
    "\n",
    "dataset = DiamondsDataset(data, transform)"
   ]
  },
  {
   "cell_type": "code",
   "execution_count": 219,
   "metadata": {},
   "outputs": [
    {
     "data": {
      "text/plain": [
       "<__main__.DiamondsDataset at 0x7fc3a38f3fa0>"
      ]
     },
     "execution_count": 219,
     "metadata": {},
     "output_type": "execute_result"
    }
   ],
   "source": [
    "dataset"
   ]
  }
 ],
 "metadata": {
  "colab": {
   "collapsed_sections": [],
   "name": "blank_03_autograd_optim_nn_datasets.ipynb",
   "provenance": []
  },
  "kernelspec": {
   "display_name": "Python 3 (ipykernel)",
   "language": "python",
   "name": "python3"
  },
  "language_info": {
   "codemirror_mode": {
    "name": "ipython",
    "version": 3
   },
   "file_extension": ".py",
   "mimetype": "text/x-python",
   "name": "python",
   "nbconvert_exporter": "python",
   "pygments_lexer": "ipython3",
   "version": "3.10.6"
  }
 },
 "nbformat": 4,
 "nbformat_minor": 4
}
