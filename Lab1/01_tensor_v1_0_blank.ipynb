{
 "cells": [
  {
   "cell_type": "markdown",
   "metadata": {
    "id": "_gE94V3G1RCx"
   },
   "source": [
    "# 01. Знакомство с `torch.Tensor`\n",
    "\n",
    "V 0.1 04.02.2021"
   ]
  },
  {
   "cell_type": "markdown",
   "metadata": {
    "id": "TlWOXn0f1RC7"
   },
   "source": [
    "---"
   ]
  },
  {
   "cell_type": "markdown",
   "metadata": {
    "id": "lZfJ1FRM1RC8"
   },
   "source": [
    "При решении данных задач не подразумевается использования циклов или генераторов Python, если в задании не сказано обратного. Решение должно опираться на использование функционала библиотеки `torch`.\n",
    "\n",
    "[PyTorch documentation](https://pytorch.org/docs/stable/#pytorch-documentation)"
   ]
  },
  {
   "cell_type": "code",
   "execution_count": 17,
   "metadata": {
    "id": "b3AW8rF-1RC9"
   },
   "outputs": [
    {
     "name": "stdout",
     "output_type": "stream",
     "text": [
      "2.0.1\n"
     ]
    }
   ],
   "source": [
    "import torch\n",
    "import numpy as np\n",
    "print(torch.__version__)"
   ]
  },
  {
   "cell_type": "markdown",
   "metadata": {
    "id": "vow49PuE1RC9"
   },
   "source": [
    "## 1.1 Создание тензоров и выполнение базовых операций над ними\n",
    "\n",
    "[Документация по функциям для создания тензоров](https://pytorch.org/docs/stable/torch.html#creation-ops)\n",
    "\n",
    "[Документация по функциям для работы с индексами](https://pytorch.org/docs/stable/torch.html#indexing-slicing-joining-mutating-ops)"
   ]
  },
  {
   "cell_type": "markdown",
   "metadata": {
    "id": "wBIwO1SB1RC-"
   },
   "source": [
    "1.1.1 Создайте двумерный тензор размера (8, 8). Используя как можно меньше операций, добейтесь расстановки кодов \"шахматных фигур\".\n",
    "\n",
    "Ожидаемый результат:\n",
    "\n",
    "```\n",
    "[[-4., -3., -2., -6., -5., -2., -3., -4.],\n",
    " [-1., -1., -1., -1., -1., -1., -1., -1.],\n",
    " [0., 0., 0., 0., 0., 0., 0., 0.],\n",
    " [0., 0., 0., 0., 0., 0., 0., 0.],\n",
    " [0., 0., 0., 0., 0., 0., 0., 0.],\n",
    " [0., 0., 0., 0., 0., 0., 0., 0.],\n",
    " [1., 1., 1., 1., 1., 1., 1., 1.],\n",
    " [4., 3., 2., 6., 5., 2., 3., 4.]]\n",
    "\n",
    "```"
   ]
  },
  {
   "cell_type": "code",
   "execution_count": 3,
   "metadata": {},
   "outputs": [
    {
     "data": {
      "text/plain": [
       "tensor([[-4., -3., -2., -6., -5., -2., -3., -4.],\n",
       "        [ 1.,  1.,  1.,  1.,  1.,  1.,  1.,  1.],\n",
       "        [ 0.,  0.,  0.,  0.,  0.,  0.,  0.,  0.],\n",
       "        [ 0.,  0.,  0.,  0.,  0.,  0.,  0.,  0.],\n",
       "        [ 0.,  0.,  0.,  0.,  0.,  0.,  0.,  0.],\n",
       "        [ 0.,  0.,  0.,  0.,  0.,  0.,  0.,  0.],\n",
       "        [-1., -1., -1., -1., -1., -1., -1., -1.],\n",
       "        [ 4.,  3.,  2.,  6.,  5.,  2.,  3.,  4.]])"
      ]
     },
     "execution_count": 3,
     "metadata": {},
     "output_type": "execute_result"
    }
   ],
   "source": [
    "x = torch.zeros(8, 8)\n",
    "x[0] = torch.Tensor([-4., -3., -2., -6., -5., -2., -3., -4.])\n",
    "x[1] = torch.ones(8)\n",
    "x[-2] = -torch.ones(8)\n",
    "x[-1] = torch.Tensor([4., 3., 2., 6., 5., 2., 3., 4.])\n",
    "x"
   ]
  },
  {
   "cell_type": "markdown",
   "metadata": {
    "id": "20x5RE1V1RC_"
   },
   "source": [
    "1.1.2 Средствами `torch` рассчитать произведения четных чисел от 2 до 20 на ближайшие к ним бОльшие нечетные числа."
   ]
  },
  {
   "cell_type": "code",
   "execution_count": 4,
   "metadata": {},
   "outputs": [
    {
     "data": {
      "text/plain": [
       "tensor([  6,  20,  42,  72, 110, 156, 210, 272, 342, 420])"
      ]
     },
     "execution_count": 4,
     "metadata": {},
     "output_type": "execute_result"
    }
   ],
   "source": [
    "a = torch.arange(2,21,2)\n",
    "b = torch.arange(3,22,2)\n",
    "a * b"
   ]
  },
  {
   "cell_type": "markdown",
   "metadata": {
    "id": "N_-t5GRM1RC_"
   },
   "source": [
    "1.1.3 Создать тензор размера 11x7 вида: [[1, 2, 3, ..., 7], [11, 12, 13, ..., 17], [21, 22, 23, ..., 27], ..., [101, 102, 103, ..., 107]]"
   ]
  },
  {
   "cell_type": "code",
   "execution_count": 5,
   "metadata": {},
   "outputs": [
    {
     "data": {
      "text/plain": [
       "tensor([[  1,   2,   3,   4,   5,   6,   7],\n",
       "        [ 11,  12,  13,  14,  15,  16,  17],\n",
       "        [ 21,  22,  23,  24,  25,  26,  27],\n",
       "        [ 31,  32,  33,  34,  35,  36,  37],\n",
       "        [ 41,  42,  43,  44,  45,  46,  47],\n",
       "        [ 51,  52,  53,  54,  55,  56,  57],\n",
       "        [ 61,  62,  63,  64,  65,  66,  67],\n",
       "        [ 71,  72,  73,  74,  75,  76,  77],\n",
       "        [ 81,  82,  83,  84,  85,  86,  87],\n",
       "        [ 91,  92,  93,  94,  95,  96,  97],\n",
       "        [101, 102, 103, 104, 105, 106, 107]])"
      ]
     },
     "execution_count": 5,
     "metadata": {},
     "output_type": "execute_result"
    }
   ],
   "source": [
    "a = torch.arange(1,111)\n",
    "a.reshape(-1,10)[:,:7]"
   ]
  },
  {
   "cell_type": "markdown",
   "metadata": {
    "id": "oxVeUiHR1RC_"
   },
   "source": [
    "1.1.4 Написать функцию, которая для целых значений `n` и `m` будет возвращать тензор размера `n`x`m`, заполненный текстурой размера 2x2, состоящей из следующих значений:\n",
    "\n",
    "```\n",
    "0 1\n",
    "\n",
    "2 3\n",
    "\n",
    "```\n",
    "\n",
    "Пример для n = 4 и m = 5:\n",
    "\n",
    "```\n",
    "0 1 0 1 0\n",
    "\n",
    "2 3 2 3 2\n",
    "\n",
    "0 1 0 1 0\n",
    "\n",
    "2 3 2 3 2\n",
    "```"
   ]
  },
  {
   "cell_type": "code",
   "execution_count": 6,
   "metadata": {},
   "outputs": [
    {
     "data": {
      "text/plain": [
       "tensor([[0., 1., 0., 1., 0.],\n",
       "        [2., 3., 2., 3., 2.],\n",
       "        [0., 1., 0., 1., 0.],\n",
       "        [2., 3., 2., 3., 2.]])"
      ]
     },
     "execution_count": 6,
     "metadata": {},
     "output_type": "execute_result"
    }
   ],
   "source": [
    "matrix = torch.Tensor([[0,1],[2,3]])\n",
    "n = 4\n",
    "m = 5\n",
    "matrix.repeat(n,m)[:n,:m]"
   ]
  },
  {
   "cell_type": "markdown",
   "metadata": {
    "id": "WH9hxJse1RDA"
   },
   "source": [
    "1.1.5 Сгенерировать двумерный тензор `t` размерности (4, 7), состоящий из случайных действительных чисел, равномерно распределенных в дипазоне от 0 до 20. Нормализовать значения массива с помощью преобразования вида $ax+b$ так, что после нормализации максимальный элемент масива будет равен 1.0, минимальный 0.0"
   ]
  },
  {
   "cell_type": "markdown",
   "metadata": {
    "id": "vPqIeewXB-mM"
   },
   "source": [
    "[Random Sampling](https://pytorch.org/docs/stable/torch.html#random-sampling)\n",
    "\n",
    "[Distributions](https://pytorch.org/docs/stable/distributions.html)"
   ]
  },
  {
   "cell_type": "code",
   "execution_count": 7,
   "metadata": {},
   "outputs": [
    {
     "name": "stdout",
     "output_type": "stream",
     "text": [
      "tensor([[16.8868, 13.9156, 10.0719, 14.9929, 15.8311, 11.7245, 16.6283],\n",
      "        [10.5652,  3.3066,  3.5868, 18.2790,  0.2333, 19.1000, 19.9277],\n",
      "        [ 6.7508,  0.2250,  2.0223,  0.3830, 16.5891,  4.3015, 15.8588],\n",
      "        [ 5.8485,  5.0217,  2.9113, 12.1101, 18.6919,  1.8113,  7.9611]])\n",
      "tensor([[8.4566e-01, 6.9486e-01, 4.9978e-01, 7.4954e-01, 7.9208e-01, 5.8365e-01,\n",
      "         8.3254e-01],\n",
      "        [5.2481e-01, 1.5641e-01, 1.7063e-01, 9.1632e-01, 4.2262e-04, 9.5799e-01,\n",
      "         1.0000e+00],\n",
      "        [3.3122e-01, 0.0000e+00, 9.1222e-02, 8.0195e-03, 8.3055e-01, 2.0690e-01,\n",
      "         7.9348e-01],\n",
      "        [2.8542e-01, 2.4345e-01, 1.3634e-01, 6.0322e-01, 9.3727e-01, 8.0514e-02,\n",
      "         3.9264e-01]])\n"
     ]
    }
   ],
   "source": [
    "t = torch.rand(4,7) * 20\n",
    "print(t)\n",
    "\n",
    "min_val = torch.min(t)\n",
    "max_val = torch.max(t)\n",
    "\n",
    "a = 1.0 / (max_val - min_val)\n",
    "b = -a * min_val\n",
    "\n",
    "a = 1.0 / (max_val - min_val)\n",
    "b = -a * min_val\n",
    "\n",
    "normalized_t = a * t + b\n",
    "\n",
    "print(normalized_t)"
   ]
  },
  {
   "cell_type": "markdown",
   "metadata": {
    "id": "K_R6cwq11RDE"
   },
   "source": [
    "1.1.6 Задать два двумерных тензора `ar1` и `ar2` размерности (4, 7), состоящих из случайных целых чисел в пределах от 0 до 10. Построить двумерный тензор размерности (4, 7), каждый элемент которого представляет собой максимум из двух значений, находящихся на аналогичной позиции в массивах `ar1`, `ar2`.\n",
    "\n",
    "[Reductions ops](https://pytorch.org/docs/stable/torch.html#reduction-ops)"
   ]
  },
  {
   "cell_type": "code",
   "execution_count": 8,
   "metadata": {},
   "outputs": [
    {
     "data": {
      "text/plain": [
       "tensor([[ 3,  8,  2,  8, 10,  2,  6],\n",
       "        [ 9,  7, 10,  5,  3,  8,  9],\n",
       "        [ 7,  8, 10,  6,  8,  6,  9],\n",
       "        [ 9,  6,  9, 10,  4,  3,  9]])"
      ]
     },
     "execution_count": 8,
     "metadata": {},
     "output_type": "execute_result"
    }
   ],
   "source": [
    "ar1 = torch.randint(0,11, size = (4,7))\n",
    "ar2 = torch.randint(0,11, size = (4,7))\n",
    "\n",
    "torch.max(ar1,ar2)"
   ]
  },
  {
   "cell_type": "markdown",
   "metadata": {
    "id": "x6zmMhyKBPWQ"
   },
   "source": [
    "1.1.7 Создать тензор из 20 случайных целых чисел от 0 до 100. Получить второе сверху значение в тензоре. Определить индекс этого значения."
   ]
  },
  {
   "cell_type": "code",
   "execution_count": 9,
   "metadata": {},
   "outputs": [
    {
     "name": "stdout",
     "output_type": "stream",
     "text": [
      "tensor([97,  1, 32, 95, 39, 14, 36,  7, 39, 88, 88, 13, 74, 11, 58, 40, 19, 93,\n",
      "        51, 27])\n"
     ]
    },
    {
     "data": {
      "text/plain": [
       "torch.return_types.topk(\n",
       "values=tensor([97, 95]),\n",
       "indices=tensor([0, 3]))"
      ]
     },
     "execution_count": 9,
     "metadata": {},
     "output_type": "execute_result"
    }
   ],
   "source": [
    "a = torch.randint(0,101, size = (20,))\n",
    "print(a)\n",
    "a.topk(2)"
   ]
  },
  {
   "cell_type": "markdown",
   "metadata": {
    "id": "Xshsy8fD1RDE"
   },
   "source": [
    "## 1.2 Распространение"
   ]
  },
  {
   "cell_type": "markdown",
   "metadata": {
    "id": "jlP22HAJCo28"
   },
   "source": [
    "[Numpy broadcasting](https://numpy.org/devdocs/user/theory.broadcasting.html)\n",
    "\n",
    "[Torch broadcasting](https://pytorch.org/docs/stable/notes/broadcasting.html)"
   ]
  },
  {
   "cell_type": "markdown",
   "metadata": {
    "id": "uRD6-8Gd1RDF"
   },
   "source": [
    "1.2.1 Создать тензор 11x7 вида: `[[1, 2, 3, ..., 7], [11, 12, 13, ..., 17], [21, 22, 23, ..., 27], ..., [101, 102, 103, ..., 107]]`. При решении задачи применить технику распространения."
   ]
  },
  {
   "cell_type": "code",
   "execution_count": 10,
   "metadata": {},
   "outputs": [
    {
     "name": "stdout",
     "output_type": "stream",
     "text": [
      "tensor([[1, 2, 3, 4, 5, 6, 7]])\n",
      "tensor([[  0],\n",
      "        [ 10],\n",
      "        [ 20],\n",
      "        [ 30],\n",
      "        [ 40],\n",
      "        [ 50],\n",
      "        [ 60],\n",
      "        [ 70],\n",
      "        [ 80],\n",
      "        [ 90],\n",
      "        [100]])\n",
      "tensor([[  1,   2,   3,   4,   5,   6,   7],\n",
      "        [ 11,  12,  13,  14,  15,  16,  17],\n",
      "        [ 21,  22,  23,  24,  25,  26,  27],\n",
      "        [ 31,  32,  33,  34,  35,  36,  37],\n",
      "        [ 41,  42,  43,  44,  45,  46,  47],\n",
      "        [ 51,  52,  53,  54,  55,  56,  57],\n",
      "        [ 61,  62,  63,  64,  65,  66,  67],\n",
      "        [ 71,  72,  73,  74,  75,  76,  77],\n",
      "        [ 81,  82,  83,  84,  85,  86,  87],\n",
      "        [ 91,  92,  93,  94,  95,  96,  97],\n",
      "        [101, 102, 103, 104, 105, 106, 107]])\n"
     ]
    }
   ],
   "source": [
    "import torch\n",
    "\n",
    "row_vector = torch.arange(1, 8).reshape(1, -1)\n",
    "\n",
    "print(row_vector)\n",
    "\n",
    "column_vector = torch.arange(0, 110, 10).reshape(-1, 1)\n",
    "\n",
    "print(column_vector)\n",
    "\n",
    "result = row_vector + column_vector\n",
    "\n",
    "print(result)\n"
   ]
  },
  {
   "cell_type": "markdown",
   "metadata": {
    "id": "iSY9Iday1RDF"
   },
   "source": [
    "1.2.2 Вычесть одномерный тензор `b_1d` из двухмерного тензора `a_2d`, так, чтобы каждый элемент одномерного тензора вычитался из всех элементов соответствующих строк двумерного тензора.\n",
    "\n",
    "_Пример:_\n",
    "\n",
    "Для входа:\n",
    "```python\n",
    "a_2d = np.array([[3,3,3],[4,4,4],[5,5,5]])\n",
    "b_1d = np.array([1,2,3])\n",
    "```\n",
    "\n",
    "Ожидается резульат:\n",
    "\n",
    "```python\n",
    "[[2 2 2]\n",
    " [2 2 2]\n",
    " [2 2 2]]\n",
    "```"
   ]
  },
  {
   "cell_type": "code",
   "execution_count": 11,
   "metadata": {},
   "outputs": [
    {
     "data": {
      "text/plain": [
       "tensor([[2, 2, 2],\n",
       "        [2, 2, 2],\n",
       "        [2, 2, 2]])"
      ]
     },
     "execution_count": 11,
     "metadata": {},
     "output_type": "execute_result"
    }
   ],
   "source": [
    "a_2d = torch.tensor([[3,3,3],[4,4,4],[5,5,5]])\n",
    "b_1d = torch.tensor([1,2,3])\n",
    "\n",
    "a_2d - b_1d[:,None]"
   ]
  },
  {
   "cell_type": "markdown",
   "metadata": {
    "id": "dFTvPsY91RDF"
   },
   "source": [
    "## 1.3 Индексы, маскирование и прихотливое индексирование\n",
    "\n",
    "[Документация по функциям для работы с индексами](https://pytorch.org/docs/stable/torch.html#indexing-slicing-joining-mutating-ops)"
   ]
  },
  {
   "cell_type": "markdown",
   "metadata": {
    "id": "McYtDYhH1RDG"
   },
   "source": [
    "1.3.1 Получить индексы, для которых элементы тензоров `a` и `b` совпадают.\n",
    "\n",
    "_Пример:_\n",
    "\n",
    "Для входа:\n",
    "```python\n",
    "a = np.array([1,2,3,2,3,4,3,4,5,6])\n",
    "b = np.array([7,2,10,2,7,4,9,4,9,8])\n",
    "```\n",
    "\n",
    "Ожидается резульат:\n",
    "\n",
    "```python\n",
    "array([1, 3, 5, 7])\n",
    "```"
   ]
  },
  {
   "cell_type": "code",
   "execution_count": 12,
   "metadata": {},
   "outputs": [
    {
     "data": {
      "text/plain": [
       "tensor([[1],\n",
       "        [3],\n",
       "        [5],\n",
       "        [7]])"
      ]
     },
     "execution_count": 12,
     "metadata": {},
     "output_type": "execute_result"
    }
   ],
   "source": [
    "a = torch.tensor([1,2,3,2,3,4,3,4,5,6])\n",
    "b = torch.tensor([7,2,10,2,7,4,9,4,9,8])\n",
    "\n",
    "torch.argwhere(a == b)"
   ]
  },
  {
   "cell_type": "markdown",
   "metadata": {
    "id": "MnBq3nfy1RDG"
   },
   "source": [
    "1.3.2 Инвертировать порядок элементов в двумерном тензоре `torch.arange(9).view(3,3)`.\n",
    "\n",
    "Ожидаемый результат:\n",
    "\n",
    "\n",
    "```python\n",
    "array([[8, 7, 6],\n",
    "       [5, 4, 3],\n",
    "       [2, 1, 0]])\n",
    "```"
   ]
  },
  {
   "cell_type": "code",
   "execution_count": 13,
   "metadata": {},
   "outputs": [
    {
     "data": {
      "text/plain": [
       "tensor([[8, 7, 6],\n",
       "        [5, 4, 3],\n",
       "        [2, 1, 0]])"
      ]
     },
     "execution_count": 13,
     "metadata": {},
     "output_type": "execute_result"
    }
   ],
   "source": [
    "torch.flip(torch.arange(9).view(3,3), [1,0])"
   ]
  },
  {
   "cell_type": "markdown",
   "metadata": {
    "id": "tANsLnOC1RDH"
   },
   "source": [
    "1.3.3 Из входного тензора a получить только элементы, находящиеся в диапазоне от 5 до 10.\n",
    "\n",
    "_Пример:_\n",
    "\n",
    "Для входа:\n",
    "```python\n",
    "a = np.array([2, 6, 1, 9, 10, 3, 27])\n",
    "```\n",
    "\n",
    "Ожидается резульат:\n",
    "\n",
    "```python\n",
    "array([6, 9, 10])\n",
    "```"
   ]
  },
  {
   "cell_type": "code",
   "execution_count": 14,
   "metadata": {},
   "outputs": [
    {
     "data": {
      "text/plain": [
       "tensor([ 6,  9, 10])"
      ]
     },
     "execution_count": 14,
     "metadata": {},
     "output_type": "execute_result"
    }
   ],
   "source": [
    "a = torch.tensor([2, 6, 1, 9, 10, 3, 27])\n",
    "a[(a >= 5) & (a <= 10)]"
   ]
  },
  {
   "cell_type": "markdown",
   "metadata": {
    "id": "3vlK0gV21RDH"
   },
   "source": [
    "1.3.4 Поменять местами столбец 1 и 2 тензора `np.arange(9).reshape(3,3)`"
   ]
  },
  {
   "cell_type": "code",
   "execution_count": 18,
   "metadata": {},
   "outputs": [
    {
     "data": {
      "text/plain": [
       "tensor([[1, 0, 2],\n",
       "        [4, 3, 5],\n",
       "        [7, 6, 8]])"
      ]
     },
     "execution_count": 18,
     "metadata": {},
     "output_type": "execute_result"
    }
   ],
   "source": [
    "a = torch.tensor(np.arange(9).reshape(3,3))\n",
    "\n",
    "a = a[:, [1, 0, 2]]\n",
    "\n",
    "a"
   ]
  },
  {
   "cell_type": "code",
   "execution_count": 19,
   "metadata": {},
   "outputs": [
    {
     "data": {
      "text/plain": [
       "tensor([[0, 0, 2],\n",
       "        [3, 3, 5],\n",
       "        [6, 6, 8]])"
      ]
     },
     "execution_count": 19,
     "metadata": {},
     "output_type": "execute_result"
    }
   ],
   "source": [
    "a = torch.tensor(np.arange(9).reshape(3,3))\n",
    "\n",
    "a[:,0].cop , a[:,1] =  a[:,1], a[:,0]\n",
    "\n",
    "a"
   ]
  },
  {
   "cell_type": "markdown",
   "metadata": {
    "id": "cheFtWhU1RDH"
   },
   "source": [
    "1.3.5 Создать тензор 8 на 10 из случайных целых чисел из диапазона от 0 до 10 и найти в ней строку (ее индекс и вывести саму строку), в которой сумма значений минимальна."
   ]
  },
  {
   "cell_type": "code",
   "execution_count": 20,
   "metadata": {},
   "outputs": [
    {
     "name": "stdout",
     "output_type": "stream",
     "text": [
      "tensor([[ 2, 10,  2,  8,  0,  8,  0,  9, 10,  4],\n",
      "        [ 5,  2,  6,  5,  6,  8,  8,  9,  4,  3],\n",
      "        [ 0,  4,  1,  3,  3,  9,  9,  8,  0,  2],\n",
      "        [ 4,  6,  4,  5,  2,  7,  7,  9,  2, 10],\n",
      "        [ 5,  8,  7,  9,  1,  7,  2,  7,  8,  7],\n",
      "        [10,  1,  5,  0,  9,  3, 10,  1, 10,  7],\n",
      "        [ 5,  6,  4,  9,  0, 10,  4,  4,  3,  5],\n",
      "        [ 6,  6,  4,  7,  6, 10,  6,  0,  7,  5]])\n",
      "tensor([53, 56, 39, 56, 61, 56, 50, 57])\n",
      "tensor([[2]])\n"
     ]
    }
   ],
   "source": [
    "a = torch.randint(0,11, size = (8,10))\n",
    "print(a)\n",
    "\n",
    "print(torch.sum(a, 1))\n",
    "print(torch.argwhere(torch.sum(a, 1) == min(torch.sum(a, 1))))"
   ]
  },
  {
   "cell_type": "markdown",
   "metadata": {
    "id": "grOCNU4XFE2B"
   },
   "source": [
    "1.3.6 Cоздать тензор из 20 случайных целых чисел от 0 до 100. Обрезать значения тензора (заменить значения, выходящие за диапазон, на крайние значения) снизу по значению 30, сверху по значению 70."
   ]
  },
  {
   "cell_type": "code",
   "execution_count": 21,
   "metadata": {},
   "outputs": [
    {
     "name": "stdout",
     "output_type": "stream",
     "text": [
      "tensor([67, 12, 80,  1, 83, 34, 89, 12, 34,  7, 44, 58, 69,  7, 13, 10, 52, 71,\n",
      "        22, 89])\n",
      "tensor([67, 30, 70, 30, 70, 34, 70, 30, 34, 30, 44, 58, 69, 30, 30, 30, 52, 70,\n",
      "        30, 70])\n"
     ]
    }
   ],
   "source": [
    "a = torch.randint(0,100, size = (20,))\n",
    "print(a)\n",
    "\n",
    "a[a < 30] = 30 \n",
    "a[a > 70] = 70\n",
    "\n",
    "print(a)"
   ]
  },
  {
   "cell_type": "markdown",
   "metadata": {
    "id": "HNfQjY8P1RDI"
   },
   "source": [
    "1.3.7 Создать два тензора размера 30 на 3 из случайных целых чисел из диапазона от 0 до 10 и найти все значения первого тензора, которые больше соответсвующих (по расположению) значений второго тензора. Подсчитать сумму этих значений."
   ]
  },
  {
   "cell_type": "code",
   "execution_count": 22,
   "metadata": {},
   "outputs": [
    {
     "name": "stdout",
     "output_type": "stream",
     "text": [
      "tensor([[2, 3, 0],\n",
      "        [7, 3, 9],\n",
      "        [0, 8, 5],\n",
      "        [7, 7, 7],\n",
      "        [1, 5, 3],\n",
      "        [3, 4, 2],\n",
      "        [7, 4, 0],\n",
      "        [5, 4, 0],\n",
      "        [0, 7, 1],\n",
      "        [1, 6, 0],\n",
      "        [4, 9, 2],\n",
      "        [7, 1, 3],\n",
      "        [8, 7, 2],\n",
      "        [1, 0, 6],\n",
      "        [2, 4, 2],\n",
      "        [0, 3, 7],\n",
      "        [3, 9, 1],\n",
      "        [6, 5, 9],\n",
      "        [5, 1, 9],\n",
      "        [0, 8, 8],\n",
      "        [7, 6, 8],\n",
      "        [2, 3, 9],\n",
      "        [3, 7, 1],\n",
      "        [9, 1, 1],\n",
      "        [4, 4, 8],\n",
      "        [0, 7, 2],\n",
      "        [8, 7, 7],\n",
      "        [4, 9, 3],\n",
      "        [0, 7, 7],\n",
      "        [1, 9, 5]])\n",
      "tensor([[6, 4, 0],\n",
      "        [0, 0, 5],\n",
      "        [5, 0, 1],\n",
      "        [3, 5, 6],\n",
      "        [5, 5, 0],\n",
      "        [1, 8, 0],\n",
      "        [6, 0, 7],\n",
      "        [6, 0, 7],\n",
      "        [4, 1, 2],\n",
      "        [5, 6, 8],\n",
      "        [4, 9, 0],\n",
      "        [7, 2, 6],\n",
      "        [4, 9, 3],\n",
      "        [1, 0, 5],\n",
      "        [5, 9, 2],\n",
      "        [2, 6, 2],\n",
      "        [4, 6, 4],\n",
      "        [5, 6, 5],\n",
      "        [4, 7, 6],\n",
      "        [5, 0, 1],\n",
      "        [5, 4, 4],\n",
      "        [2, 6, 4],\n",
      "        [4, 5, 7],\n",
      "        [9, 6, 6],\n",
      "        [7, 8, 0],\n",
      "        [0, 9, 9],\n",
      "        [4, 2, 3],\n",
      "        [2, 8, 7],\n",
      "        [2, 9, 1],\n",
      "        [1, 2, 5]])\n"
     ]
    },
    {
     "data": {
      "text/plain": [
       "tensor(366)"
      ]
     },
     "execution_count": 22,
     "metadata": {},
     "output_type": "execute_result"
    }
   ],
   "source": [
    "a = torch.randint(0,10, size = (30,3))\n",
    "b = torch.randint(0,10, size = (30,3))\n",
    "\n",
    "print(a)\n",
    "print(b)\n",
    "\n",
    "sum(a[a > b]) + sum(b[a > b])\n"
   ]
  },
  {
   "cell_type": "markdown",
   "metadata": {
    "id": "doBCxYJA1RDI"
   },
   "source": [
    "1.3.8 При помощи прихотливого индексирования для двухмерного массива размерности (20, 20), состоящего из случайных целых чисел в пределах от 0 до 10 получить массив элементов находящихся на диагонали, проходящей над основной диагональю."
   ]
  },
  {
   "cell_type": "code",
   "execution_count": 23,
   "metadata": {},
   "outputs": [
    {
     "data": {
      "text/plain": [
       "tensor([[ 5,  9,  9,  9,  0,  9,  7,  6, 10,  9,  5,  4,  9,  1,  9,  7,  5,  6,\n",
       "          9,  6],\n",
       "        [ 4,  0,  4,  9,  5,  0,  7, 10,  1,  7, 10,  2,  1,  5,  6,  6,  3,  4,\n",
       "          6,  2],\n",
       "        [ 0,  4,  7,  0,  2,  7,  6, 10, 10,  6,  0,  0,  9, 10,  9,  7,  0,  9,\n",
       "          0,  6],\n",
       "        [ 5, 10,  5,  6, 10, 10,  2,  7,  9,  8,  7,  3,  5,  9,  6,  8,  9,  4,\n",
       "          4, 10],\n",
       "        [ 5,  2,  7,  4,  6,  6,  2,  1,  6,  8, 10,  5,  2,  4,  4,  4,  3,  1,\n",
       "          9,  7],\n",
       "        [ 2,  0,  3, 10,  5,  8, 10,  6,  3,  3,  7,  3,  6,  1, 10,  6,  1,  7,\n",
       "          8,  9],\n",
       "        [10,  0,  6,  1,  5, 10,  8,  7,  4,  6,  6,  4, 10,  0,  9,  1,  3,  1,\n",
       "          7,  9],\n",
       "        [ 5, 10,  4,  6,  5,  0, 10,  4,  2,  8,  3, 10,  4,  4,  0,  5,  0,  1,\n",
       "          9,  0],\n",
       "        [ 4,  1,  4,  3,  5,  5,  7,  0,  7,  8,  5,  8,  9,  8,  9,  6,  2,  4,\n",
       "          7,  9],\n",
       "        [ 8,  6,  5,  4,  4,  3,  4,  3,  1,  2,  5,  5,  5,  9,  4,  8,  4,  2,\n",
       "          3,  3],\n",
       "        [10,  5,  1,  1,  9,  3,  8,  8,  0,  6,  9,  9,  3,  1,  6, 10,  8,  8,\n",
       "          4,  8],\n",
       "        [ 9,  9,  3,  4,  6,  2,  0,  6,  5,  8,  9,  2,  2,  9, 10,  0, 10,  9,\n",
       "          1,  5],\n",
       "        [ 4,  7,  7,  0,  5,  8,  1,  8,  5,  1,  0,  9,  9,  5,  4,  6,  5,  7,\n",
       "          0,  8],\n",
       "        [10,  0,  7,  8,  7,  6,  1,  0, 10,  6,  4,  4,  2,  4,  2,  4,  5,  1,\n",
       "          1,  0],\n",
       "        [ 4,  8,  0,  4,  1,  9,  2,  9,  1,  9,  8,  6,  8,  4,  8,  7, 10,  1,\n",
       "          2,  0],\n",
       "        [ 3,  3,  6,  9,  6,  2,  1,  9,  8,  7,  6,  4,  4,  4,  7,  2,  0,  1,\n",
       "          9, 10],\n",
       "        [ 6,  6,  6,  6,  7,  8, 10,  4,  1,  0,  2,  8,  8,  1,  2,  3,  7,  3,\n",
       "          7,  1],\n",
       "        [ 5,  1,  4,  5,  7,  5,  3,  1,  1,  5,  5,  1, 10,  9, 10,  5,  4,  7,\n",
       "          1,  5],\n",
       "        [ 8,  0,  0,  1,  7,  3,  3,  9,  1,  5,  9,  2,  1, 10,  5,  5,  4,  2,\n",
       "          3,  6],\n",
       "        [10,  9,  6,  9,  7,  3,  2,  5,  6, 10,  0,  7,  4,  7,  3,  3,  7,  7,\n",
       "          8,  6]])"
      ]
     },
     "execution_count": 23,
     "metadata": {},
     "output_type": "execute_result"
    }
   ],
   "source": [
    "a = torch.randint(0,11, size = (20,20))\n",
    "a"
   ]
  },
  {
   "cell_type": "code",
   "execution_count": 24,
   "metadata": {},
   "outputs": [
    {
     "name": "stdout",
     "output_type": "stream",
     "text": [
      "tensor([ 9,  4,  0, 10,  6, 10,  7,  2,  8,  5,  9,  2,  5,  2,  7,  0,  3,  1,\n",
      "         6])\n"
     ]
    }
   ],
   "source": [
    "diagonal_elements = a.diagonal(offset=1).flatten()\n",
    "print(diagonal_elements)"
   ]
  },
  {
   "cell_type": "markdown",
   "metadata": {
    "id": "6M1lkfLp1RDJ"
   },
   "source": [
    "1.3.9 Задать два двухмерных тензора `ar1` и `ar2` размерности (5, 10), состоящих из случайных целых чисел в пределах от 0 до 10. Удвоить все значения `ar1`, которые совпадают со значениями `ar2`, расположенными на аналогичных позициях."
   ]
  },
  {
   "cell_type": "code",
   "execution_count": 25,
   "metadata": {},
   "outputs": [
    {
     "name": "stdout",
     "output_type": "stream",
     "text": [
      "tensor([[ 7,  4,  2,  2,  7,  5,  1,  3,  4,  5],\n",
      "        [ 8,  8,  4,  9,  0,  2,  9,  7,  0,  2],\n",
      "        [ 6,  9,  1,  7, 10,  3,  9,  0,  6,  0],\n",
      "        [ 3,  3,  4,  9,  2,  2,  1,  2,  0,  4],\n",
      "        [ 3, 10,  8,  7,  2,  9,  9,  8,  9,  5]])\n",
      "tensor([[ 7,  7,  3,  5,  4,  2,  8,  5,  9,  0],\n",
      "        [ 4,  0, 10,  9,  6,  6,  2,  7,  1, 10],\n",
      "        [ 9,  2,  6,  1,  4,  2,  7,  2,  9,  0],\n",
      "        [ 6,  9,  7,  4, 10, 10,  0, 10,  3,  3],\n",
      "        [ 3,  7,  1,  3,  0,  5,  2,  3, 10,  0]])\n",
      "tensor([[14,  4,  2,  2,  7,  5,  1,  3,  4,  5],\n",
      "        [ 8,  8,  4, 18,  0,  2,  9, 14,  0,  2],\n",
      "        [ 6,  9,  1,  7, 10,  3,  9,  0,  6,  0],\n",
      "        [ 3,  3,  4,  9,  2,  2,  1,  2,  0,  4],\n",
      "        [ 6, 10,  8,  7,  2,  9,  9,  8,  9,  5]])\n"
     ]
    }
   ],
   "source": [
    "ar1 = torch.randint(0,11, size = (5,10))\n",
    "ar2 = torch.randint(0,11, size = (5,10))\n",
    "\n",
    "print(ar1)\n",
    "print(ar2)\n",
    "\n",
    "ar1[ar1 == ar2] = ar1[ar1 == ar2]*2\n",
    "\n",
    "print(ar1)"
   ]
  },
  {
   "cell_type": "markdown",
   "metadata": {
    "id": "Qe2oVr4p1RDJ"
   },
   "source": [
    "1.3.10 Заданы три двухмерных тензора `ar1`, `ar2` и `ar3` размерности (4, 7), состоящие из случайных целых чисел в пределах от 0 до 10. Обнулить все элементы `ar1`, которые больше соответствующих (находящихся в соответствующих позициях) элементов `ar2` и меньше соответствующих элементов `ar3`."
   ]
  },
  {
   "cell_type": "code",
   "execution_count": 26,
   "metadata": {},
   "outputs": [
    {
     "name": "stdout",
     "output_type": "stream",
     "text": [
      "tensor([[ 5,  1,  4, 10,  3,  9,  4],\n",
      "        [ 4,  2,  7, 10,  9, 10,  8],\n",
      "        [ 2,  4,  5,  3,  7,  8,  9],\n",
      "        [ 1,  7,  0,  6,  6,  0,  6]])\n",
      "tensor([[ 5,  7,  4,  2,  8,  2,  1],\n",
      "        [ 4, 10,  2,  8,  2,  4,  3],\n",
      "        [ 5,  2,  6,  2,  9,  8,  0],\n",
      "        [ 0,  9,  1, 10,  8,  4,  0]])\n",
      "tensor([[ 3,  9,  5,  9,  4,  0, 10],\n",
      "        [ 3,  1,  3,  6,  7,  5,  0],\n",
      "        [10,  1,  2,  1,  6, 10,  9],\n",
      "        [ 2,  9,  6,  8,  1,  6,  5]])\n",
      "tensor([[ 5,  1,  4, 10,  3,  9,  0],\n",
      "        [ 4,  2,  7, 10,  9, 10,  8],\n",
      "        [ 2,  4,  5,  3,  7,  8,  9],\n",
      "        [ 0,  7,  0,  6,  6,  0,  6]])\n"
     ]
    }
   ],
   "source": [
    "ar1 = torch.randint(0,11, size = (4,7))\n",
    "ar2 = torch.randint(0,11, size = (4,7))\n",
    "ar3 = torch.randint(0,11, size = (4,7))\n",
    "\n",
    "print(ar1)\n",
    "print(ar2)\n",
    "print(ar3)\n",
    "\n",
    "ar1[(ar1 > ar2) & (ar1 < ar3)] = 0\n",
    "\n",
    "print(ar1)"
   ]
  },
  {
   "cell_type": "markdown",
   "metadata": {
    "id": "BTcRVeYh1RDK"
   },
   "source": [
    "1.3.11 Задан двумерный тензор `ar1` размерности (20, 5), состоящий из случайных целых чисел в пределах от 0 до 20. Определить, в каких столбцах не менее 5 раз встречается значение, максимальное по своей строке."
   ]
  },
  {
   "cell_type": "code",
   "execution_count": 73,
   "metadata": {},
   "outputs": [
    {
     "name": "stdout",
     "output_type": "stream",
     "text": [
      "tensor([[ 3, 18, 20, 18, 10],\n",
      "        [14, 15, 15,  3, 11],\n",
      "        [ 6, 19,  7, 16,  0],\n",
      "        [ 5, 14, 14,  8, 20],\n",
      "        [ 2,  0, 12, 20,  5],\n",
      "        [20, 20,  0, 13,  8],\n",
      "        [ 9,  5, 14,  4, 11],\n",
      "        [13,  6, 16, 19, 10],\n",
      "        [14,  5,  8, 20,  6],\n",
      "        [16,  7, 11, 19, 12],\n",
      "        [10,  6,  9,  7,  6],\n",
      "        [ 3, 18,  3, 11, 18],\n",
      "        [ 9, 14, 15,  6,  7],\n",
      "        [13,  0, 20, 12, 10],\n",
      "        [19, 20, 16,  7,  8],\n",
      "        [ 3, 15, 15, 19, 18],\n",
      "        [ 1,  6,  4, 16,  7],\n",
      "        [11, 18,  4, 11, 15],\n",
      "        [16,  9, 12, 10, 19],\n",
      "        [15, 16, 12, 14,  9]])\n",
      "tensor(False)\n",
      "tensor(True)\n",
      "tensor(True)\n",
      "tensor(True)\n"
     ]
    }
   ],
   "source": [
    "ar1 = torch.randint(0,21, size = (20,5))\n",
    "print(ar1)\n",
    "print(sum(torch.max(ar1, dim = 1)[0] == ar1[:,0]) >= 5)\n",
    "print(sum(torch.max(ar1, dim = 1)[0] == ar1[:,1]) >= 5)\n",
    "print(sum(torch.max(ar1, dim = 1)[0] == ar1[:,2]) >= 5)\n",
    "print(sum(torch.max(ar1, dim = 1)[0] == ar1[:,3]) >= 5)\n"
   ]
  },
  {
   "cell_type": "code",
   "execution_count": 79,
   "metadata": {},
   "outputs": [
    {
     "name": "stdout",
     "output_type": "stream",
     "text": [
      "tensor([14, 18, 18, 19, 20, 18, 14, 20, 12, 13, 16, 14, 19, 14, 13, 20, 12, 20,\n",
      "        14,  9])\n",
      "tensor([[14],\n",
      "        [18],\n",
      "        [18],\n",
      "        [19],\n",
      "        [20],\n",
      "        [18],\n",
      "        [14],\n",
      "        [20],\n",
      "        [12],\n",
      "        [13],\n",
      "        [16],\n",
      "        [14],\n",
      "        [19],\n",
      "        [14],\n",
      "        [13],\n",
      "        [20],\n",
      "        [12],\n",
      "        [20],\n",
      "        [14],\n",
      "        [ 9]])\n",
      "tensor([False,  True,  True,  True, False])\n"
     ]
    }
   ],
   "source": [
    "ar1 = torch.randint(0, 21, size=(20, 5))\n",
    "max_values, _ = torch.max(ar1, dim=1)\n",
    "print(max_values)\n",
    "print(max_values.unsqueeze(1))\n",
    "column_counts = torch.sum(ar1 == max_values.unsqueeze(1), dim=0)\n",
    "columns_with_at_least_5_max_values = column_counts >= 5\n",
    "print(columns_with_at_least_5_max_values)"
   ]
  },
  {
   "cell_type": "markdown",
   "metadata": {
    "id": "ZeYlNWNE1RDK"
   },
   "source": [
    "1.3.12 Задан двумерный тензор `ar1` размерности (4, 7), состоящий из случайных  чисел в пределах от 0 до 1. Обнулить все значения в массиве, расположенные строго правее и ниже максимального элемента массива. "
   ]
  },
  {
   "cell_type": "code",
   "execution_count": 118,
   "metadata": {},
   "outputs": [
    {
     "name": "stdout",
     "output_type": "stream",
     "text": [
      "tensor([[0.9521, 0.6537, 0.5252, 0.0219, 0.8804, 0.8012, 0.3197],\n",
      "        [0.8439, 0.1892, 0.2578, 0.5689, 0.7407, 0.0434, 0.7956],\n",
      "        [0.2129, 0.9656, 0.1814, 0.5674, 0.0439, 0.0751, 0.9908],\n",
      "        [0.2982, 0.8016, 0.0046, 0.4452, 0.9946, 0.5526, 0.2546]])\n",
      "tensor([[0.9521, 0.6537, 0.5252, 0.0219, 0.8804, 0.8012, 0.3197],\n",
      "        [0.8439, 0.1892, 0.2578, 0.5689, 0.7407, 0.0434, 0.7956],\n",
      "        [0.2129, 0.9656, 0.1814, 0.5674, 0.0439, 0.0751, 0.9908],\n",
      "        [0.2982, 0.8016, 0.0046, 0.4452, 0.9946, 0.0000, 0.0000]])\n"
     ]
    }
   ],
   "source": [
    "ar1 = torch.rand(4,7)\n",
    "print(ar1)\n",
    "max_num = torch.max(ar1)\n",
    "max_indices = torch.where(ar1 == max_num)\n",
    "\n",
    "\n",
    "row_indices, col_indices = int(max_indices[0]), int(max_indices[1])\n",
    "\n",
    "ar1[row_indices :, col_indices: ] = 0\n",
    "ar1[row_indices, col_indices] = max_num\n",
    "\n",
    "print(ar1)\n"
   ]
  },
  {
   "cell_type": "markdown",
   "metadata": {
    "id": "pYxX90B11RDL"
   },
   "source": [
    "1.3.13 Построить \"one-hot encoding\" для одномерного тензора, содержащего целые числа (длина вектора заранее неизвестна, набор значений заранее неизвестен, при этом в итоговой матрице должны присутствовать столбцы для всех натуральных чисел вплоть до максимального встречающегося в исходном массиве).\n",
    "\n",
    "Пример:\n",
    "\n",
    "для тензора `torch.tensor([2, 3, 2, 2, 2, 1])`.\n",
    "\n",
    "Ожидается результат:\n",
    "\n",
    "```python\n",
    "tensor([[0., 1., 0.],\n",
    "        [0., 0., 1.],\n",
    "        [0., 1., 0.],\n",
    "        [0., 1., 0.],\n",
    "        [0., 1., 0.],\n",
    "        [1., 0., 0.]])\n",
    "```"
   ]
  },
  {
   "cell_type": "code",
   "execution_count": 173,
   "metadata": {},
   "outputs": [
    {
     "name": "stdout",
     "output_type": "stream",
     "text": [
      "tensor([4, 6, 1, 3, 1, 4])\n",
      "tensor([[0., 0., 0., 1., 0., 0.],\n",
      "        [0., 0., 0., 0., 0., 1.],\n",
      "        [1., 0., 0., 0., 0., 0.],\n",
      "        [0., 0., 1., 0., 0., 0.],\n",
      "        [1., 0., 0., 0., 0., 0.],\n",
      "        [0., 0., 0., 1., 0., 0.]])\n"
     ]
    }
   ],
   "source": [
    "ar1 = torch.randint(1,7 , size = (6,))\n",
    "\n",
    "print(ar1)\n",
    "\n",
    "final_ar1 = torch.zeros(size = (ar1.shape[0], torch.max(ar1)  + 1))\n",
    "final_ar1[torch.arange(ar1.shape[0]),ar1 ] = 1\n",
    "print(final_ar1[:,1:])\n"
   ]
  },
  {
   "cell_type": "markdown",
   "metadata": {
    "id": "GYU8DmNTDLN8"
   },
   "source": [
    "1.3.14 Создать тензор `arr` из 20 случайных целых чисел от 0 до 100. Найти самое частое значение в тензоре. \n",
    "Найти индексы в тензоре, соответствующие самому частому значению. Проверить, как работет алгоритм при двух значениях, имеющих наибольшую встречаемость, предложить приемлемое поведение алгоритма для этого случая. "
   ]
  },
  {
   "cell_type": "code",
   "execution_count": 300,
   "metadata": {},
   "outputs": [
    {
     "name": "stdout",
     "output_type": "stream",
     "text": [
      "tensor([85, 84, 52, 86, 72, 34, 24, 42, 78, 15,  3, 97, 29, 22, 71, 60,  5, 22,\n",
      "        28, 68])\n",
      "tensor([ 3,  5, 15, 22, 24, 28, 29, 34, 42, 52, 60, 68, 71, 72, 78, 84, 85, 86,\n",
      "        97])\n",
      "Частые значения: tensor([22])\n",
      "Индексы максимальных значений: tensor([13, 17])\n"
     ]
    }
   ],
   "source": [
    "ar1 = torch.randint(1,100 , size = (20,))\n",
    "print(ar1)\n",
    "values , counts = ar1.unique(return_counts = True)\n",
    "print(values)\n",
    "mask = counts == max(counts)\n",
    "\n",
    "print(\"Частые значения:\", values[mask])\n",
    "max_indices = torch.nonzero(ar1 == values[mask]).squeeze()\n",
    "print(\"Индексы максимальных значений:\", max_indices)"
   ]
  },
  {
   "cell_type": "markdown",
   "metadata": {
    "id": "UenAEfEG1RDN"
   },
   "source": [
    "## 1.4 Математические задачи"
   ]
  },
  {
   "cell_type": "markdown",
   "metadata": {
    "id": "6weDrqJR1RDN"
   },
   "source": [
    "1.4.1 Приблизительно (с погрешностью порядка 1%) рассчитать на какой части интервала от 0 до 10 значение функции x * sin(x) больше 0.5."
   ]
  },
  {
   "cell_type": "code",
   "execution_count": 302,
   "metadata": {},
   "outputs": [],
   "source": [
    "def f(x):\n",
    "    return x * torch.sin(x)\n"
   ]
  },
  {
   "cell_type": "code",
   "execution_count": 303,
   "metadata": {},
   "outputs": [
    {
     "name": "stdout",
     "output_type": "stream",
     "text": [
      "Приближенно на 52.7% интервала [0, 10] значение функции больше 0.5.\n"
     ]
    }
   ],
   "source": [
    "num_points = 100000\n",
    "\n",
    "# Интервал от 0 до 10\n",
    "a = 0\n",
    "b = 10\n",
    "# Генерация случайных точек на интервале [a, b]\n",
    "random_points = torch.rand(num_points) * (b - a) + a\n",
    "\n",
    "# Вычисление значений функции в этих точках\n",
    "function_values = f(random_points)\n",
    "\n",
    "# Подсчет количества точек, где значение функции больше 0.5\n",
    "count = torch.sum(function_values > 0.5)\n",
    "\n",
    "# Расчет процента точек, на которых значение больше 0.5\n",
    "percentage = (count / num_points) * 100\n",
    "\n",
    "print(f\"Приближенно на {percentage:.1f}% интервала [{a}, {b}] значение функции больше 0.5.\")"
   ]
  },
  {
   "cell_type": "markdown",
   "metadata": {
    "id": "B9xAv8TR1RDN"
   },
   "source": [
    "1.4.2 Найти все простые числа в пределах ста. (Для решения предлагается использовать Решето Эратосфена) Использовать не более 1 цикла (желательно)."
   ]
  },
  {
   "cell_type": "code",
   "execution_count": 345,
   "metadata": {},
   "outputs": [
    {
     "name": "stdout",
     "output_type": "stream",
     "text": [
      "tensor([  2,   3,   4,   5,   6,   7,   8,   9,  10,  11,  12,  13,  14,  15,\n",
      "         16,  17,  18,  19,  20,  21,  22,  23,  24,  25,  26,  27,  28,  29,\n",
      "         30,  31,  32,  33,  34,  35,  36,  37,  38,  39,  40,  41,  42,  43,\n",
      "         44,  45,  46,  47,  48,  49,  50,  51,  52,  53,  54,  55,  56,  57,\n",
      "         58,  59,  60,  61,  62,  63,  64,  65,  66,  67,  68,  69,  70,  71,\n",
      "         72,  73,  74,  75,  76,  77,  78,  79,  80,  81,  82,  83,  84,  85,\n",
      "         86,  87,  88,  89,  90,  91,  92,  93,  94,  95,  96,  97,  98,  99,\n",
      "        100])\n",
      "tensor([ 2,  3,  5,  7, 11, 13, 17, 19, 23, 29, 31, 37, 41, 43, 47, 53, 59, 61,\n",
      "        67, 71, 73, 79, 83, 89, 97])\n"
     ]
    }
   ],
   "source": [
    "ar1 = torch.arange(2, 101)\n",
    "print(ar1)\n",
    "\n",
    "for i in range(1,len(ar1)):\n",
    "    if i * i < len(ar1) + 2:\n",
    "        ar1[i * i - 2::i] = 0\n",
    "\n",
    "# Filter out the 0 values to get the prime numbers\n",
    "primes = ar1[ar1.nonzero()]\n",
    "print(primes.squeeze())"
   ]
  },
  {
   "cell_type": "markdown",
   "metadata": {
    "id": "AHupFoTR1RDN"
   },
   "source": [
    "1.4.3 Найти евклидово расстояние между двумя одномерными тензорами одинаковой размерности, не используя готовые решения из библиотек."
   ]
  },
  {
   "cell_type": "code",
   "execution_count": 352,
   "metadata": {},
   "outputs": [
    {
     "name": "stdout",
     "output_type": "stream",
     "text": [
      "tensor([0.4348, 0.4948, 0.7236, 0.9457, 0.6019]) tensor([0.6379, 0.4815, 0.3522, 0.9396, 0.0330])\n",
      "tensor(0.7092)\n"
     ]
    }
   ],
   "source": [
    "vector1 = torch.rand(size = (5,))\n",
    "vector2 = torch.rand(size = (5,))\n",
    "\n",
    "print(vector1, vector2)\n",
    "res = torch.sqrt(sum((vector1 - vector2) ** 2))\n",
    "print(res)"
   ]
  },
  {
   "cell_type": "markdown",
   "metadata": {
    "id": "j-ZvjWDKDVMQ"
   },
   "source": [
    "1.4.4 Создать двумерный тензор 20 на 3, содержащий случайные целые числа от 0 до 100. \n",
    "Интерпретируя тензор как 20 векторов из 3х компонент, отсортировать его по длине векторов."
   ]
  },
  {
   "cell_type": "code",
   "execution_count": 372,
   "metadata": {},
   "outputs": [
    {
     "name": "stdout",
     "output_type": "stream",
     "text": [
      "tensor([[25,  7, 80],\n",
      "        [81, 72, 53],\n",
      "        [20,  5, 32],\n",
      "        [17, 70, 69],\n",
      "        [35,  5, 62],\n",
      "        [40, 26, 18],\n",
      "        [22, 49, 65],\n",
      "        [85, 86, 20],\n",
      "        [ 8, 89, 20],\n",
      "        [42, 52, 97],\n",
      "        [52, 83, 15],\n",
      "        [47, 79, 28],\n",
      "        [88, 25, 11],\n",
      "        [89, 62, 35],\n",
      "        [33, 11, 95],\n",
      "        [69, 34, 42],\n",
      "        [75, 43, 17],\n",
      "        [72, 54, 33],\n",
      "        [24, 23, 88],\n",
      "        [58, 54, 32]])\n",
      "tensor([ 84.1071, 120.6400,  38.0657,  99.7497,  71.3723,  50.9902,  84.3208,\n",
      "        122.5602,  91.5696, 117.8007,  99.0858,  96.0937,  92.1412, 113.9737,\n",
      "        101.1682,  87.6413,  88.1079,  95.8593,  94.0691,  85.4634])\n",
      "Отсортированная матрица:\n",
      "tensor([[20,  5, 32],\n",
      "        [40, 26, 18],\n",
      "        [35,  5, 62],\n",
      "        [25,  7, 80],\n",
      "        [22, 49, 65],\n",
      "        [58, 54, 32],\n",
      "        [69, 34, 42],\n",
      "        [75, 43, 17],\n",
      "        [ 8, 89, 20],\n",
      "        [88, 25, 11],\n",
      "        [24, 23, 88],\n",
      "        [72, 54, 33],\n",
      "        [47, 79, 28],\n",
      "        [52, 83, 15],\n",
      "        [17, 70, 69],\n",
      "        [33, 11, 95],\n",
      "        [89, 62, 35],\n",
      "        [42, 52, 97],\n",
      "        [81, 72, 53],\n",
      "        [85, 86, 20]])\n"
     ]
    }
   ],
   "source": [
    "matrix = torch.randint(0, 101, size = (20, 3))\n",
    "print(matrix)\n",
    "def vector_length(vector):\n",
    "    return torch.norm(vector.float(), p=2)\n",
    "\n",
    "vector_lengths = torch.norm(matrix.float(), p=2, dim=1)\n",
    "print(vector_lengths)\n",
    "_, indices = torch.sort(vector_lengths)\n",
    "\n",
    "sorted_matrix = matrix[indices]\n",
    "\n",
    "print(\"Отсортированная матрица:\")\n",
    "print(sorted_matrix)\n",
    "\n",
    "\n",
    "\n",
    "\n",
    "\n",
    "\n"
   ]
  },
  {
   "cell_type": "markdown",
   "metadata": {
    "id": "IkBRFTKa1RDO"
   },
   "source": [
    "1.4.5 Найти \"локальные максимумы\" в одномерном тензоре (т.е. значения, большие предыдущего и последующего) `torch.tensor([1, 3, 7, 1, 2, 6, 0, 1])` и вывести их индексы."
   ]
  },
  {
   "cell_type": "code",
   "execution_count": 397,
   "metadata": {},
   "outputs": [
    {
     "name": "stdout",
     "output_type": "stream",
     "text": [
      "tensor([7, 6])\n"
     ]
    }
   ],
   "source": [
    "ar1 = torch.tensor([1, 3, 7, 1, 2, 6, 0, 1])\n",
    "mask = (ar1[1:-1] > ar1[2:]) & (ar1[1:-1] > ar1[:-2] )\n",
    "print(ar1[1:-1][mask])"
   ]
  },
  {
   "cell_type": "markdown",
   "metadata": {
    "id": "VXD58rlc1RDP"
   },
   "source": [
    "1.4.6 Задан произвольный массив numpy (например массив из 100 случайных числе от 0 до 1). Необходимо найти в нем число наиболее близкое к заданному."
   ]
  },
  {
   "cell_type": "code",
   "execution_count": 414,
   "metadata": {},
   "outputs": [
    {
     "name": "stdout",
     "output_type": "stream",
     "text": [
      "Type number: 0.5\n",
      "90\n",
      "0.5015188214278562\n"
     ]
    }
   ],
   "source": [
    "ar1 = np.random.rand(100)\n",
    "ar1\n",
    "a = float(input(\"Type number: \"))\n",
    "sub = np.abs(ar1 - a)\n",
    "index = sub.argmin()\n",
    "print(index)\n",
    "print(ar1[index])"
   ]
  },
  {
   "cell_type": "markdown",
   "metadata": {
    "id": "81F_B2ij1RDP"
   },
   "source": [
    "1.4.7 Решить матричное уравнение `A*X*B=-C` - найти матрицу X. Где `A = [[-1, 2, 4], [-3, 1, 2], [-3, 0, 1]]`, `B=[[3, -1], [2, 1]]`, `C=[[7, 21], [11, 8], [8, 4]]`."
   ]
  },
  {
   "cell_type": "code",
   "execution_count": 419,
   "metadata": {},
   "outputs": [
    {
     "name": "stdout",
     "output_type": "stream",
     "text": [
      "tensor([[ 1.0000e+00, -1.1921e-07],\n",
      "        [-2.0000e+00,  1.0000e+00],\n",
      "        [ 3.0000e+00, -4.0000e+00]])\n"
     ]
    }
   ],
   "source": [
    "A =  torch.Tensor([[-1, 2, 4], [-3, 1, 2], [-3, 0, 1]])\n",
    "B= torch.Tensor([[3, -1], [2, 1]])\n",
    "C= torch.Tensor([[7, 21], [11, 8], [8, 4]])\n",
    "\n",
    "A_inv = torch.linalg.inv(A)\n",
    "B_inv = torch.linalg.inv(B)\n",
    "X = -torch.matmul(torch.matmul(A_inv, C), B_inv) \n",
    "print(X)"
   ]
  },
  {
   "cell_type": "markdown",
   "metadata": {
    "id": "1P7O19bj1RDP"
   },
   "source": [
    "1.4.8 Проверить, является ли система векторов a1 = (3; −3; 0; 7),\n",
    "a2 = (2; 2; 4; 7), a3 = (1; 2; 3; 4), a4 = (5; −4; 1; 3) линейно зависимой?"
   ]
  },
  {
   "cell_type": "code",
   "execution_count": 11,
   "metadata": {},
   "outputs": [
    {
     "name": "stdout",
     "output_type": "stream",
     "text": [
      "Система векторов линейно зависима\n"
     ]
    }
   ],
   "source": [
    "import torch\n",
    "\n",
    "# Задаем векторы\n",
    "a1 = torch.tensor([3, -3, 0, 7], dtype=torch.float32)\n",
    "a2 = torch.tensor([2, 2, 4, 7], dtype=torch.float32)\n",
    "a3 = torch.tensor([1, 2, 3, 4], dtype=torch.float32)\n",
    "a4 = torch.tensor([5, -4, 1, 3], dtype=torch.float32)\n",
    "\n",
    "# Создаем матрицу из векторов\n",
    "A = torch.stack([a1, a2, a3, a4])\n",
    "B = torch.zeros(4)\n",
    "# Решаем систему линейных уравнений A * X = 0\n",
    "# Где X - это вектор неизвестных коэффициентов\n",
    "X = torch.linalg.lstsq(A, B).solution\n",
    "\n",
    "# Если все коэффициенты равны нулю, то система векторов линейно зависима\n",
    "if torch.all(X == 0):\n",
    "    print(\"Система векторов линейно зависима\")\n",
    "else:\n",
    "    print(\"Система векторов линейно независима\")\n"
   ]
  },
  {
   "cell_type": "markdown",
   "metadata": {
    "id": "Jg_bzMVS1RDQ"
   },
   "source": [
    "1.4.9 Сгенирировать тензор из 200 случайных целых чисел, нормально распрделенных cо стандартным отклонением $\\sigma = 10$ и матожиданием $\\mu = 0$. Построить тензор гистограммы с 20 бинами. "
   ]
  },
  {
   "cell_type": "code",
   "execution_count": 422,
   "metadata": {},
   "outputs": [
    {
     "data": {
      "image/png": "[encoded data removed]",
      "text/plain": [
       "<Figure size 640x480 with 1 Axes>"
      ]
     },
     "metadata": {},
     "output_type": "display_data"
    }
   ],
   "source": [
    "import matplotlib.pyplot as plt\n",
    "\n",
    "\n",
    "sigma = 10\n",
    "mu = 0\n",
    "num_samples = 200\n",
    "random_tensor = torch.normal(mean=mu, std=sigma, size=(num_samples,))\n",
    "\n",
    "# Построим гистограмму с 20 бинами\n",
    "plt.hist(random_tensor.numpy(), bins=20, color='blue', alpha=0.7)\n",
    "plt.title('Гистограмма случайных чисел')\n",
    "plt.xlabel('Значение')\n",
    "plt.ylabel('Частота')\n",
    "plt.grid(True)\n",
    "plt.show()\n",
    "\n",
    "\n",
    "\n",
    "\n",
    "\n"
   ]
  }
 ],
 "metadata": {
  "colab": {
   "name": "01_tensor_v1_blank.ipynb",
   "provenance": [],
   "toc_visible": true
  },
  "kernelspec": {
   "display_name": "Python 3 (ipykernel)",
   "language": "python",
   "name": "python3"
  },
  "language_info": {
   "codemirror_mode": {
    "name": "ipython",
    "version": 3
   },
   "file_extension": ".py",
   "mimetype": "text/x-python",
   "name": "python",
   "nbconvert_exporter": "python",
   "pygments_lexer": "ipython3",
   "version": "3.10.6"
  }
 },
 "nbformat": 4,
 "nbformat_minor": 4
}
